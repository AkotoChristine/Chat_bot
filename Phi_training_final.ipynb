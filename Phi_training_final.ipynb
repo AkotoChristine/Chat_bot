{
  "cells": [
    {
      "cell_type": "markdown",
      "metadata": {
        "colab_type": "text",
        "id": "view-in-github"
      },
      "source": [
        "<a href=\"https://colab.research.google.com/github/AkotoChristine/Chat_bot/blob/main/Phi_training.ipynb\" target=\"_parent\"><img src=\"https://colab.research.google.com/assets/colab-badge.svg\" alt=\"Open In Colab\"/></a>"
      ]
    },
    {
      "cell_type": "code",
      "execution_count": 1,
      "id": "TL6Gv6a5xk1H",
      "metadata": {
        "colab": {
          "base_uri": "https://localhost:8080/"
        },
        "id": "TL6Gv6a5xk1H",
        "outputId": "8c39065b-ea4d-4dad-8469-2167ecbaf754"
      },
      "outputs": [
        {
          "name": "stdout",
          "output_type": "stream",
          "text": [
            "\u001b[33mWARNING: Ignoring invalid distribution ~vidia-cublas-cu12 (/usr/local/lib/python3.12/dist-packages)\u001b[0m\u001b[33m\n",
            "\u001b[0mLooking in indexes: https://download.pytorch.org/whl/cu126\n",
            "Requirement already satisfied: torch==2.8.0+cu126 in /usr/local/lib/python3.12/dist-packages (2.8.0+cu126)\n",
            "Requirement already satisfied: torchvision==0.23.0+cu126 in /usr/local/lib/python3.12/dist-packages (0.23.0+cu126)\n",
            "Requirement already satisfied: torchaudio==2.8.0+cu126 in /usr/local/lib/python3.12/dist-packages (2.8.0+cu126)\n",
            "Requirement already satisfied: filelock in /usr/local/lib/python3.12/dist-packages (from torch==2.8.0+cu126) (3.20.0)\n",
            "Requirement already satisfied: typing-extensions>=4.10.0 in /usr/local/lib/python3.12/dist-packages (from torch==2.8.0+cu126) (4.15.0)\n",
            "Requirement already satisfied: setuptools in /usr/local/lib/python3.12/dist-packages (from torch==2.8.0+cu126) (75.2.0)\n",
            "Requirement already satisfied: sympy>=1.13.3 in /usr/local/lib/python3.12/dist-packages (from torch==2.8.0+cu126) (1.13.3)\n",
            "Requirement already satisfied: networkx in /usr/local/lib/python3.12/dist-packages (from torch==2.8.0+cu126) (3.5)\n",
            "Requirement already satisfied: jinja2 in /usr/local/lib/python3.12/dist-packages (from torch==2.8.0+cu126) (3.1.6)\n",
            "Requirement already satisfied: fsspec in /usr/local/lib/python3.12/dist-packages (from torch==2.8.0+cu126) (2025.3.0)\n",
            "Requirement already satisfied: nvidia-cuda-nvrtc-cu12==12.6.77 in /usr/local/lib/python3.12/dist-packages (from torch==2.8.0+cu126) (12.6.77)\n",
            "Requirement already satisfied: nvidia-cuda-runtime-cu12==12.6.77 in /usr/local/lib/python3.12/dist-packages (from torch==2.8.0+cu126) (12.6.77)\n",
            "Requirement already satisfied: nvidia-cuda-cupti-cu12==12.6.80 in /usr/local/lib/python3.12/dist-packages (from torch==2.8.0+cu126) (12.6.80)\n",
            "Requirement already satisfied: nvidia-cudnn-cu12==9.10.2.21 in /usr/local/lib/python3.12/dist-packages (from torch==2.8.0+cu126) (9.10.2.21)\n",
            "Collecting nvidia-cublas-cu12==12.6.4.1 (from torch==2.8.0+cu126)\n",
            "  Using cached https://download.pytorch.org/whl/cu126/nvidia_cublas_cu12-12.6.4.1-py3-none-manylinux2014_x86_64.manylinux_2_17_x86_64.whl.metadata (1.5 kB)\n",
            "Requirement already satisfied: nvidia-cufft-cu12==11.3.0.4 in /usr/local/lib/python3.12/dist-packages (from torch==2.8.0+cu126) (11.3.0.4)\n",
            "Requirement already satisfied: nvidia-curand-cu12==10.3.7.77 in /usr/local/lib/python3.12/dist-packages (from torch==2.8.0+cu126) (10.3.7.77)\n",
            "Requirement already satisfied: nvidia-cusolver-cu12==11.7.1.2 in /usr/local/lib/python3.12/dist-packages (from torch==2.8.0+cu126) (11.7.1.2)\n",
            "Requirement already satisfied: nvidia-cusparse-cu12==12.5.4.2 in /usr/local/lib/python3.12/dist-packages (from torch==2.8.0+cu126) (12.5.4.2)\n",
            "Requirement already satisfied: nvidia-cusparselt-cu12==0.7.1 in /usr/local/lib/python3.12/dist-packages (from torch==2.8.0+cu126) (0.7.1)\n",
            "Requirement already satisfied: nvidia-nccl-cu12==2.27.3 in /usr/local/lib/python3.12/dist-packages (from torch==2.8.0+cu126) (2.27.3)\n",
            "Requirement already satisfied: nvidia-nvtx-cu12==12.6.77 in /usr/local/lib/python3.12/dist-packages (from torch==2.8.0+cu126) (12.6.77)\n",
            "Requirement already satisfied: nvidia-nvjitlink-cu12==12.6.85 in /usr/local/lib/python3.12/dist-packages (from torch==2.8.0+cu126) (12.6.85)\n",
            "Requirement already satisfied: nvidia-cufile-cu12==1.11.1.6 in /usr/local/lib/python3.12/dist-packages (from torch==2.8.0+cu126) (1.11.1.6)\n",
            "Requirement already satisfied: triton==3.4.0 in /usr/local/lib/python3.12/dist-packages (from torch==2.8.0+cu126) (3.4.0)\n",
            "Requirement already satisfied: numpy in /usr/local/lib/python3.12/dist-packages (from torchvision==0.23.0+cu126) (1.26.4)\n",
            "Requirement already satisfied: pillow!=8.3.*,>=5.3.0 in /usr/local/lib/python3.12/dist-packages (from torchvision==0.23.0+cu126) (11.3.0)\n",
            "Requirement already satisfied: mpmath<1.4,>=1.1.0 in /usr/local/lib/python3.12/dist-packages (from sympy>=1.13.3->torch==2.8.0+cu126) (1.3.0)\n",
            "Requirement already satisfied: MarkupSafe>=2.0 in /usr/local/lib/python3.12/dist-packages (from jinja2->torch==2.8.0+cu126) (3.0.3)\n",
            "Using cached https://download.pytorch.org/whl/cu126/nvidia_cublas_cu12-12.6.4.1-py3-none-manylinux2014_x86_64.manylinux_2_17_x86_64.whl (393.1 MB)\n",
            "\u001b[33mWARNING: Ignoring invalid distribution ~vidia-cublas-cu12 (/usr/local/lib/python3.12/dist-packages)\u001b[0m\u001b[33m\n",
            "\u001b[0mInstalling collected packages: nvidia-cublas-cu12\n",
            "\u001b[33mWARNING: Ignoring invalid distribution ~vidia-cublas-cu12 (/usr/local/lib/python3.12/dist-packages)\u001b[0m\u001b[33m\n",
            "\u001b[0mSuccessfully installed nvidia-cublas-cu12\n",
            "\u001b[33mWARNING: Ignoring invalid distribution ~vidia-cublas-cu12 (/usr/local/lib/python3.12/dist-packages)\u001b[0m\u001b[33m\n",
            "\u001b[0m\u001b[33mWARNING: Ignoring invalid distribution ~vidia-cublas-cu12 (/usr/local/lib/python3.12/dist-packages)\u001b[0m\u001b[33m\n",
            "\u001b[0m\u001b[33mWARNING: Ignoring invalid distribution ~vidia-cublas-cu12 (/usr/local/lib/python3.12/dist-packages)\u001b[0m\u001b[33m\n",
            "\u001b[0m"
          ]
        }
      ],
      "source": [
        "!pip install torch==2.8.0+cu126 torchvision==0.23.0+cu126 torchaudio==2.8.0+cu126 --index-url https://download.pytorch.org/whl/cu126\n",
        "!pip install transformers==4.44.2 accelerate==0.33.0 peft bitsandbytes --quiet\n"
      ]
    },
    {
      "cell_type": "code",
      "execution_count": 2,
      "id": "51ea0cde",
      "metadata": {
        "id": "51ea0cde"
      },
      "outputs": [],
      "source": [
        "import re\n",
        "import pandas as pd\n",
        "import os\n",
        "import gc\n",
        "import wandb\n",
        "from datasets import Dataset, DatasetDict\n",
        "from transformers import (\n",
        "    GPT2Tokenizer,\n",
        "    GPT2LMHeadModel,\n",
        "    DataCollatorForLanguageModeling,\n",
        "    Trainer,\n",
        "    TrainingArguments,\n",
        ")"
      ]
    },
    {
      "cell_type": "code",
      "execution_count": 3,
      "id": "lsYu8UHyAre-",
      "metadata": {
        "colab": {
          "base_uri": "https://localhost:8080/"
        },
        "id": "lsYu8UHyAre-",
        "outputId": "f6479ab5-04e4-4e84-c07b-91ff1b17c4f0"
      },
      "outputs": [
        {
          "name": "stdout",
          "output_type": "stream",
          "text": [
            "Drive already mounted at /content/drive; to attempt to forcibly remount, call drive.mount(\"/content/drive\", force_remount=True).\n"
          ]
        }
      ],
      "source": [
        "from google.colab import drive\n",
        "drive.mount('/content/drive')"
      ]
    },
    {
      "cell_type": "code",
      "execution_count": 4,
      "id": "twOysQ6DA_Z9",
      "metadata": {
        "id": "twOysQ6DA_Z9"
      },
      "outputs": [],
      "source": [
        "file_path = '/content/drive/MyDrive/preprocessed_recipes.csv'\n",
        "main_data = pd.read_csv(file_path)"
      ]
    },
    {
      "cell_type": "code",
      "execution_count": 5,
      "id": "gEZMAKgwROf3",
      "metadata": {
        "colab": {
          "base_uri": "https://localhost:8080/",
          "height": 293
        },
        "id": "gEZMAKgwROf3",
        "outputId": "27d89635-3e4e-43e0-dd56-ed49ec405743"
      },
      "outputs": [
        {
          "data": {
            "application/vnd.google.colaboratory.intrinsic+json": {
              "summary": "{\n  \"name\": \"main_data\",\n  \"rows\": 20000,\n  \"fields\": [\n    {\n      \"column\": \"instruction\",\n      \"properties\": {\n        \"dtype\": \"string\",\n        \"num_unique_values\": 20000,\n        \"samples\": [\n          \"Can you give me a recipe for Moroccan Spiced White Fish?\",\n          \"Can you give me a recipe for P.W.\\u2019S Homemade Chocolate Milk Mix For The Fridge?\",\n          \"Can you give me a recipe for Moroccan Chicken with Olives and Lemons?\"\n        ],\n        \"semantic_type\": \"\",\n        \"description\": \"\"\n      }\n    },\n    {\n      \"column\": \"response\",\n      \"properties\": {\n        \"dtype\": \"string\",\n        \"num_unique_values\": 20000,\n        \"samples\": [\n          \"**Recipe:** Moroccan Spiced White Fish\\n\\n**Ingredients:**\\n- 1 to 2 pounds whole white fish\\n- 1 lemon, juiced\\n- 1/4 cup olive oil\\n- 2 garlic cloves, chopped\\n- 4 tablespoons Moroccan Spice mix, recipe follows\\n\\n**Directions:**\\nPreheat the oven to 400 degrees F. Score the fish with a paring knife by making several 1-inch slits in the skin on each side, being careful not to cut in too deep. Put the fish on a dish and drizzle with the lemon juice and 1/2 of the oil. Press the garlic into the score marks. Rub the spice mix all over the inside and outside of the fish. Cover with plastic wrap, and allow it to marinate in the fridge for one hour. Heat a skillet large enough to hold the whole fish over high heat until it is almost smoking. Carefully pour the remaining oil into the pan and let it heat. Place the fish in the pan, sear it well on both sides, and then place it in the oven for about 7 minutes, or until the fish flakes easily. Transfer the fish to a serving platter. 1 tablespoon ground cumin 1 tablespoon ground coriander 1 teaspoon ground cloves 1 teaspoon ground cinnamon 1 teaspoon ground nutmeg 1 tablespoon paprika 1 teaspoon turmeric 1 teaspoon ground ginger 1 tablespoon sugar 2 tablespoons kosher salt 2 tablespoons freshly ground black pepper Combine all ingredients in a small bowl. Yield: 3/4 cup\",\n          \"**Recipe:** P.W.\\u2019S Homemade Chocolate Milk Mix For The Fridge\\n\\n**Ingredients:**\\n- 1 cup heavy cream (whipping)\\n- 4 ounces semisweet chocolate pieces\\n\\n**Directions:**\\nHeat cream over medium-high heat until slightly boiling. Add chocolate pieces and turn off heat. Whisk slowly until chocolate is melted and mixture is very smooth. Pour into a container and keep in the fridge up to two weeks. Mix with cold or warm milk, depending on how frightful the weather outside is. Note: Mixture, after refrigerated, will be quite thick. Just stir well in cold milk and you'll be fine.\",\n          \"**Recipe:** Moroccan Chicken with Olives and Lemons\\n\\n**Ingredients:**\\n- 3 cloves garlic, mashed\\n- Salt and freshly ground pepper to taste\\n- 1 teaspoon paprika\\n- Pinch of saffron or turmeric\\n- 1/2 cup chopped fresh parsley\\n- 1/2 cup chopped fresh cilantro\\n- 4-pound chicken, cut into 8 pieces\\n- 2 tablespoons olive oil\\n- 1 cup pitted green olives\\n- 1-2 preserved lemons, diced\\n\\n**Directions:**\\nMix the mashed garlic with the salt and pepper, the paprika, saffron or turmeric, and half the parsley and cilantro. Rub onto the surface of the chicken and leave in the refrigerator, covered, overnight. The next day, preheat the oven to 375F and heat the olive oil in an ovenproof frying pan or a Dutch oven. Add the chicken, skin side down, and saute for 5 minutes, until the skin browns. Turn the chicken skin side up and sprinkle the olives over it. Transfer the pan to the oven and bake for 20 minutes. Add the lemon and continue to cook for 15 more minutes or until the chicken is done. Just before serving, sprinkle with the remaining parsley and cilantro.\"\n        ],\n        \"semantic_type\": \"\",\n        \"description\": \"\"\n      }\n    }\n  ]\n}",
              "type": "dataframe",
              "variable_name": "main_data"
            },
            "text/html": [
              "\n",
              "  <div id=\"df-124cea5d-1ad5-46d9-9383-26c9ca558a06\" class=\"colab-df-container\">\n",
              "    <div>\n",
              "<style scoped>\n",
              "    .dataframe tbody tr th:only-of-type {\n",
              "        vertical-align: middle;\n",
              "    }\n",
              "\n",
              "    .dataframe tbody tr th {\n",
              "        vertical-align: top;\n",
              "    }\n",
              "\n",
              "    .dataframe thead th {\n",
              "        text-align: right;\n",
              "    }\n",
              "</style>\n",
              "<table border=\"1\" class=\"dataframe\">\n",
              "  <thead>\n",
              "    <tr style=\"text-align: right;\">\n",
              "      <th></th>\n",
              "      <th>instruction</th>\n",
              "      <th>response</th>\n",
              "    </tr>\n",
              "  </thead>\n",
              "  <tbody>\n",
              "    <tr>\n",
              "      <th>0</th>\n",
              "      <td>Can you give me a recipe for Vegetarian Bobotie?</td>\n",
              "      <td>**Recipe:** Vegetarian Bobotie\\n\\n**Ingredient...</td>\n",
              "    </tr>\n",
              "    <tr>\n",
              "      <th>1</th>\n",
              "      <td>Can you give me a recipe for Citrus Couscous S...</td>\n",
              "      <td>**Recipe:** Citrus Couscous Salad\\n\\n**Ingredi...</td>\n",
              "    </tr>\n",
              "    <tr>\n",
              "      <th>2</th>\n",
              "      <td>Can you give me a recipe for Tofu Kebabs?</td>\n",
              "      <td>**Recipe:** Tofu Kebabs\\n\\n**Ingredients:**\\n-...</td>\n",
              "    </tr>\n",
              "    <tr>\n",
              "      <th>3</th>\n",
              "      <td>Can you give me a recipe for Coffee Milk Syrup?</td>\n",
              "      <td>**Recipe:** Coffee Milk Syrup\\n\\n**Ingredients...</td>\n",
              "    </tr>\n",
              "    <tr>\n",
              "      <th>4</th>\n",
              "      <td>Can you give me a recipe for Lemony Apple Chic...</td>\n",
              "      <td>**Recipe:** Lemony Apple Chicken Couscous\\n\\n*...</td>\n",
              "    </tr>\n",
              "  </tbody>\n",
              "</table>\n",
              "</div>\n",
              "    <div class=\"colab-df-buttons\">\n",
              "\n",
              "  <div class=\"colab-df-container\">\n",
              "    <button class=\"colab-df-convert\" onclick=\"convertToInteractive('df-124cea5d-1ad5-46d9-9383-26c9ca558a06')\"\n",
              "            title=\"Convert this dataframe to an interactive table.\"\n",
              "            style=\"display:none;\">\n",
              "\n",
              "  <svg xmlns=\"http://www.w3.org/2000/svg\" height=\"24px\" viewBox=\"0 -960 960 960\">\n",
              "    <path d=\"M120-120v-720h720v720H120Zm60-500h600v-160H180v160Zm220 220h160v-160H400v160Zm0 220h160v-160H400v160ZM180-400h160v-160H180v160Zm440 0h160v-160H620v160ZM180-180h160v-160H180v160Zm440 0h160v-160H620v160Z\"/>\n",
              "  </svg>\n",
              "    </button>\n",
              "\n",
              "  <style>\n",
              "    .colab-df-container {\n",
              "      display:flex;\n",
              "      gap: 12px;\n",
              "    }\n",
              "\n",
              "    .colab-df-convert {\n",
              "      background-color: #E8F0FE;\n",
              "      border: none;\n",
              "      border-radius: 50%;\n",
              "      cursor: pointer;\n",
              "      display: none;\n",
              "      fill: #1967D2;\n",
              "      height: 32px;\n",
              "      padding: 0 0 0 0;\n",
              "      width: 32px;\n",
              "    }\n",
              "\n",
              "    .colab-df-convert:hover {\n",
              "      background-color: #E2EBFA;\n",
              "      box-shadow: 0px 1px 2px rgba(60, 64, 67, 0.3), 0px 1px 3px 1px rgba(60, 64, 67, 0.15);\n",
              "      fill: #174EA6;\n",
              "    }\n",
              "\n",
              "    .colab-df-buttons div {\n",
              "      margin-bottom: 4px;\n",
              "    }\n",
              "\n",
              "    [theme=dark] .colab-df-convert {\n",
              "      background-color: #3B4455;\n",
              "      fill: #D2E3FC;\n",
              "    }\n",
              "\n",
              "    [theme=dark] .colab-df-convert:hover {\n",
              "      background-color: #434B5C;\n",
              "      box-shadow: 0px 1px 3px 1px rgba(0, 0, 0, 0.15);\n",
              "      filter: drop-shadow(0px 1px 2px rgba(0, 0, 0, 0.3));\n",
              "      fill: #FFFFFF;\n",
              "    }\n",
              "  </style>\n",
              "\n",
              "    <script>\n",
              "      const buttonEl =\n",
              "        document.querySelector('#df-124cea5d-1ad5-46d9-9383-26c9ca558a06 button.colab-df-convert');\n",
              "      buttonEl.style.display =\n",
              "        google.colab.kernel.accessAllowed ? 'block' : 'none';\n",
              "\n",
              "      async function convertToInteractive(key) {\n",
              "        const element = document.querySelector('#df-124cea5d-1ad5-46d9-9383-26c9ca558a06');\n",
              "        const dataTable =\n",
              "          await google.colab.kernel.invokeFunction('convertToInteractive',\n",
              "                                                    [key], {});\n",
              "        if (!dataTable) return;\n",
              "\n",
              "        const docLinkHtml = 'Like what you see? Visit the ' +\n",
              "          '<a target=\"_blank\" href=https://colab.research.google.com/notebooks/data_table.ipynb>data table notebook</a>'\n",
              "          + ' to learn more about interactive tables.';\n",
              "        element.innerHTML = '';\n",
              "        dataTable['output_type'] = 'display_data';\n",
              "        await google.colab.output.renderOutput(dataTable, element);\n",
              "        const docLink = document.createElement('div');\n",
              "        docLink.innerHTML = docLinkHtml;\n",
              "        element.appendChild(docLink);\n",
              "      }\n",
              "    </script>\n",
              "  </div>\n",
              "\n",
              "\n",
              "    <div id=\"df-093b27f5-4281-4c11-b0c7-8bf3ca845b77\">\n",
              "      <button class=\"colab-df-quickchart\" onclick=\"quickchart('df-093b27f5-4281-4c11-b0c7-8bf3ca845b77')\"\n",
              "                title=\"Suggest charts\"\n",
              "                style=\"display:none;\">\n",
              "\n",
              "<svg xmlns=\"http://www.w3.org/2000/svg\" height=\"24px\"viewBox=\"0 0 24 24\"\n",
              "     width=\"24px\">\n",
              "    <g>\n",
              "        <path d=\"M19 3H5c-1.1 0-2 .9-2 2v14c0 1.1.9 2 2 2h14c1.1 0 2-.9 2-2V5c0-1.1-.9-2-2-2zM9 17H7v-7h2v7zm4 0h-2V7h2v10zm4 0h-2v-4h2v4z\"/>\n",
              "    </g>\n",
              "</svg>\n",
              "      </button>\n",
              "\n",
              "<style>\n",
              "  .colab-df-quickchart {\n",
              "      --bg-color: #E8F0FE;\n",
              "      --fill-color: #1967D2;\n",
              "      --hover-bg-color: #E2EBFA;\n",
              "      --hover-fill-color: #174EA6;\n",
              "      --disabled-fill-color: #AAA;\n",
              "      --disabled-bg-color: #DDD;\n",
              "  }\n",
              "\n",
              "  [theme=dark] .colab-df-quickchart {\n",
              "      --bg-color: #3B4455;\n",
              "      --fill-color: #D2E3FC;\n",
              "      --hover-bg-color: #434B5C;\n",
              "      --hover-fill-color: #FFFFFF;\n",
              "      --disabled-bg-color: #3B4455;\n",
              "      --disabled-fill-color: #666;\n",
              "  }\n",
              "\n",
              "  .colab-df-quickchart {\n",
              "    background-color: var(--bg-color);\n",
              "    border: none;\n",
              "    border-radius: 50%;\n",
              "    cursor: pointer;\n",
              "    display: none;\n",
              "    fill: var(--fill-color);\n",
              "    height: 32px;\n",
              "    padding: 0;\n",
              "    width: 32px;\n",
              "  }\n",
              "\n",
              "  .colab-df-quickchart:hover {\n",
              "    background-color: var(--hover-bg-color);\n",
              "    box-shadow: 0 1px 2px rgba(60, 64, 67, 0.3), 0 1px 3px 1px rgba(60, 64, 67, 0.15);\n",
              "    fill: var(--button-hover-fill-color);\n",
              "  }\n",
              "\n",
              "  .colab-df-quickchart-complete:disabled,\n",
              "  .colab-df-quickchart-complete:disabled:hover {\n",
              "    background-color: var(--disabled-bg-color);\n",
              "    fill: var(--disabled-fill-color);\n",
              "    box-shadow: none;\n",
              "  }\n",
              "\n",
              "  .colab-df-spinner {\n",
              "    border: 2px solid var(--fill-color);\n",
              "    border-color: transparent;\n",
              "    border-bottom-color: var(--fill-color);\n",
              "    animation:\n",
              "      spin 1s steps(1) infinite;\n",
              "  }\n",
              "\n",
              "  @keyframes spin {\n",
              "    0% {\n",
              "      border-color: transparent;\n",
              "      border-bottom-color: var(--fill-color);\n",
              "      border-left-color: var(--fill-color);\n",
              "    }\n",
              "    20% {\n",
              "      border-color: transparent;\n",
              "      border-left-color: var(--fill-color);\n",
              "      border-top-color: var(--fill-color);\n",
              "    }\n",
              "    30% {\n",
              "      border-color: transparent;\n",
              "      border-left-color: var(--fill-color);\n",
              "      border-top-color: var(--fill-color);\n",
              "      border-right-color: var(--fill-color);\n",
              "    }\n",
              "    40% {\n",
              "      border-color: transparent;\n",
              "      border-right-color: var(--fill-color);\n",
              "      border-top-color: var(--fill-color);\n",
              "    }\n",
              "    60% {\n",
              "      border-color: transparent;\n",
              "      border-right-color: var(--fill-color);\n",
              "    }\n",
              "    80% {\n",
              "      border-color: transparent;\n",
              "      border-right-color: var(--fill-color);\n",
              "      border-bottom-color: var(--fill-color);\n",
              "    }\n",
              "    90% {\n",
              "      border-color: transparent;\n",
              "      border-bottom-color: var(--fill-color);\n",
              "    }\n",
              "  }\n",
              "</style>\n",
              "\n",
              "      <script>\n",
              "        async function quickchart(key) {\n",
              "          const quickchartButtonEl =\n",
              "            document.querySelector('#' + key + ' button');\n",
              "          quickchartButtonEl.disabled = true;  // To prevent multiple clicks.\n",
              "          quickchartButtonEl.classList.add('colab-df-spinner');\n",
              "          try {\n",
              "            const charts = await google.colab.kernel.invokeFunction(\n",
              "                'suggestCharts', [key], {});\n",
              "          } catch (error) {\n",
              "            console.error('Error during call to suggestCharts:', error);\n",
              "          }\n",
              "          quickchartButtonEl.classList.remove('colab-df-spinner');\n",
              "          quickchartButtonEl.classList.add('colab-df-quickchart-complete');\n",
              "        }\n",
              "        (() => {\n",
              "          let quickchartButtonEl =\n",
              "            document.querySelector('#df-093b27f5-4281-4c11-b0c7-8bf3ca845b77 button');\n",
              "          quickchartButtonEl.style.display =\n",
              "            google.colab.kernel.accessAllowed ? 'block' : 'none';\n",
              "        })();\n",
              "      </script>\n",
              "    </div>\n",
              "\n",
              "    </div>\n",
              "  </div>\n"
            ],
            "text/plain": [
              "                                         instruction  \\\n",
              "0   Can you give me a recipe for Vegetarian Bobotie?   \n",
              "1  Can you give me a recipe for Citrus Couscous S...   \n",
              "2          Can you give me a recipe for Tofu Kebabs?   \n",
              "3    Can you give me a recipe for Coffee Milk Syrup?   \n",
              "4  Can you give me a recipe for Lemony Apple Chic...   \n",
              "\n",
              "                                            response  \n",
              "0  **Recipe:** Vegetarian Bobotie\\n\\n**Ingredient...  \n",
              "1  **Recipe:** Citrus Couscous Salad\\n\\n**Ingredi...  \n",
              "2  **Recipe:** Tofu Kebabs\\n\\n**Ingredients:**\\n-...  \n",
              "3  **Recipe:** Coffee Milk Syrup\\n\\n**Ingredients...  \n",
              "4  **Recipe:** Lemony Apple Chicken Couscous\\n\\n*...  "
            ]
          },
          "execution_count": 5,
          "metadata": {},
          "output_type": "execute_result"
        }
      ],
      "source": [
        "main_data.head(5)"
      ]
    },
    {
      "cell_type": "markdown",
      "id": "69472f84",
      "metadata": {
        "id": "69472f84"
      },
      "source": [
        "## tokenization and normlisation"
      ]
    },
    {
      "cell_type": "code",
      "execution_count": 6,
      "id": "acf86436",
      "metadata": {
        "colab": {
          "base_uri": "https://localhost:8080/",
          "height": 244
        },
        "id": "acf86436",
        "outputId": "5f41c0c3-b1d0-4820-c4a6-c861d50e9006"
      },
      "outputs": [
        {
          "data": {
            "application/vnd.google.colaboratory.intrinsic+json": {
              "summary": "{\n  \"name\": \"main_data[['instruction','response']]\",\n  \"rows\": 4,\n  \"fields\": [\n    {\n      \"column\": \"instruction\",\n      \"properties\": {\n        \"dtype\": \"string\",\n        \"num_unique_values\": 4,\n        \"samples\": [\n          \"Can you give me a recipe for Citrus Couscous Salad?\",\n          \"Can you give me a recipe for Coffee Milk Syrup?\",\n          \"Can you give me a recipe for Vegetarian Bobotie?\"\n        ],\n        \"semantic_type\": \"\",\n        \"description\": \"\"\n      }\n    },\n    {\n      \"column\": \"response\",\n      \"properties\": {\n        \"dtype\": \"string\",\n        \"num_unique_values\": 4,\n        \"samples\": [\n          \"**Recipe:** Citrus Couscous Salad **Ingredients:** - 2 cups fresh orange juice, divided - 1/2 cup water - 1 teaspoon salt - 1 (10-ounce) package couscous (about 1 2/3 cups) - 1/2 cup dried apricots, sliced - 1/2 cup dried currants - 2 tablespoons red wine vinegar - 1 cup chopped seeded cucumber - 3/4 cup chopped green onions - 1/2 cup coarsely chopped pistachios - 1/4 cup chopped fresh mint - 1/4 cup fresh lemon juice - 2 tablespoons extra virgin olive oil **Directions:** Bring 1 1/2 cups orange juice, water, and salt to a boil in a medium saucepan; gradually stir in couscous. Remove from heat; cover and let stand 5 minutes. Fluff with a fork. Place couscous in a large bowl. Combine 1/2 cup orange juice, apricots, currants, and vinegar in a small saucepan; bring to a boil. Remove from heat; let stand 15 minutes. Drain and discard cooking liquid. Add apricot mixture, cucumber, and remaining ingredients to couscous, tossing to combine.\",\n          \"**Recipe:** Coffee Milk Syrup **Ingredients:** - 1/2 cup finely ground coffee - 2 cups cold water - 1 cup sugar - 1 cup cold 2% milk **Directions:** Place ground coffee in filter basket of a drip coffeemaker. Add 2 cups cold water to water reservoir and brew according to manufacturer's directions. In a small saucepan, combine coffee and sugar; bring to a boil. Reduce heat; simmer until reduced by half, about 30 minutes. Remove from heat; transfer to a small bowl or covered container. Refrigerate, covered, until cold or up to 2 weeks. To prepare coffee milk: In a tall glass, mix 1 cup milk and 2-4 tablespoons coffee milk syrup.\",\n          \"**Recipe:** Vegetarian Bobotie **Ingredients:** - 250 g lentils - 1 large onion, diced - 1 large fresh tomato, diced - 2 teaspoons curry powder - 1 teaspoon turmeric - salt and pepper - 4 tablespoons chutney - 1 large handful raisins - 40 g sliced almonds - For the topping - 3 eggs - 100 -150 ml milk (not entirely sure about the amount as I do it by feel, your topping should have a very pale yellow c) - 2 bay leaves (I tear mine up a bit, but some people put them in whole, up to you) **Directions:** Rinse lentils until water runs clear. Cover lentils with water and pre-cook for 30min (you may need to top the water up from time to time). Drain lentils. Preheat oven to 150C. Saute onion and tomato. Add curry, tumeric, salt and pepper. Cook for 1-2 minutes. Add raisins, almonds, chutney, onion and tomato to lentils. Mix and place in baking dish. Shake up topping ingredients and pour over lentils. Place in oven and bake for 1-1/2 hours (egg topping should have risen all the way to the middle) Please note:. I spice my bobotie mildy and use a slightly sweet sultana chutney - one preference found in the Cape. Some people make theirs hotter and use Mrs. Ball's Original Chutney, which is very tasty and is less sweet. I recommend you experiment, but remember, the dish should be spicy as in flavoursome, not as in burn-your-mouth. Also, adding a bit more diced onion will add more texture to the lentils.\"\n        ],\n        \"semantic_type\": \"\",\n        \"description\": \"\"\n      }\n    }\n  ]\n}",
              "type": "dataframe"
            },
            "text/html": [
              "\n",
              "  <div id=\"df-b8092384-9c83-46f8-b663-95172b10c712\" class=\"colab-df-container\">\n",
              "    <div>\n",
              "<style scoped>\n",
              "    .dataframe tbody tr th:only-of-type {\n",
              "        vertical-align: middle;\n",
              "    }\n",
              "\n",
              "    .dataframe tbody tr th {\n",
              "        vertical-align: top;\n",
              "    }\n",
              "\n",
              "    .dataframe thead th {\n",
              "        text-align: right;\n",
              "    }\n",
              "</style>\n",
              "<table border=\"1\" class=\"dataframe\">\n",
              "  <thead>\n",
              "    <tr style=\"text-align: right;\">\n",
              "      <th></th>\n",
              "      <th>instruction</th>\n",
              "      <th>response</th>\n",
              "    </tr>\n",
              "  </thead>\n",
              "  <tbody>\n",
              "    <tr>\n",
              "      <th>0</th>\n",
              "      <td>Can you give me a recipe for Vegetarian Bobotie?</td>\n",
              "      <td>**Recipe:** Vegetarian Bobotie **Ingredients:*...</td>\n",
              "    </tr>\n",
              "    <tr>\n",
              "      <th>1</th>\n",
              "      <td>Can you give me a recipe for Citrus Couscous S...</td>\n",
              "      <td>**Recipe:** Citrus Couscous Salad **Ingredient...</td>\n",
              "    </tr>\n",
              "    <tr>\n",
              "      <th>2</th>\n",
              "      <td>Can you give me a recipe for Tofu Kebabs?</td>\n",
              "      <td>**Recipe:** Tofu Kebabs **Ingredients:** - 10 ...</td>\n",
              "    </tr>\n",
              "    <tr>\n",
              "      <th>3</th>\n",
              "      <td>Can you give me a recipe for Coffee Milk Syrup?</td>\n",
              "      <td>**Recipe:** Coffee Milk Syrup **Ingredients:**...</td>\n",
              "    </tr>\n",
              "  </tbody>\n",
              "</table>\n",
              "</div>\n",
              "    <div class=\"colab-df-buttons\">\n",
              "\n",
              "  <div class=\"colab-df-container\">\n",
              "    <button class=\"colab-df-convert\" onclick=\"convertToInteractive('df-b8092384-9c83-46f8-b663-95172b10c712')\"\n",
              "            title=\"Convert this dataframe to an interactive table.\"\n",
              "            style=\"display:none;\">\n",
              "\n",
              "  <svg xmlns=\"http://www.w3.org/2000/svg\" height=\"24px\" viewBox=\"0 -960 960 960\">\n",
              "    <path d=\"M120-120v-720h720v720H120Zm60-500h600v-160H180v160Zm220 220h160v-160H400v160Zm0 220h160v-160H400v160ZM180-400h160v-160H180v160Zm440 0h160v-160H620v160ZM180-180h160v-160H180v160Zm440 0h160v-160H620v160Z\"/>\n",
              "  </svg>\n",
              "    </button>\n",
              "\n",
              "  <style>\n",
              "    .colab-df-container {\n",
              "      display:flex;\n",
              "      gap: 12px;\n",
              "    }\n",
              "\n",
              "    .colab-df-convert {\n",
              "      background-color: #E8F0FE;\n",
              "      border: none;\n",
              "      border-radius: 50%;\n",
              "      cursor: pointer;\n",
              "      display: none;\n",
              "      fill: #1967D2;\n",
              "      height: 32px;\n",
              "      padding: 0 0 0 0;\n",
              "      width: 32px;\n",
              "    }\n",
              "\n",
              "    .colab-df-convert:hover {\n",
              "      background-color: #E2EBFA;\n",
              "      box-shadow: 0px 1px 2px rgba(60, 64, 67, 0.3), 0px 1px 3px 1px rgba(60, 64, 67, 0.15);\n",
              "      fill: #174EA6;\n",
              "    }\n",
              "\n",
              "    .colab-df-buttons div {\n",
              "      margin-bottom: 4px;\n",
              "    }\n",
              "\n",
              "    [theme=dark] .colab-df-convert {\n",
              "      background-color: #3B4455;\n",
              "      fill: #D2E3FC;\n",
              "    }\n",
              "\n",
              "    [theme=dark] .colab-df-convert:hover {\n",
              "      background-color: #434B5C;\n",
              "      box-shadow: 0px 1px 3px 1px rgba(0, 0, 0, 0.15);\n",
              "      filter: drop-shadow(0px 1px 2px rgba(0, 0, 0, 0.3));\n",
              "      fill: #FFFFFF;\n",
              "    }\n",
              "  </style>\n",
              "\n",
              "    <script>\n",
              "      const buttonEl =\n",
              "        document.querySelector('#df-b8092384-9c83-46f8-b663-95172b10c712 button.colab-df-convert');\n",
              "      buttonEl.style.display =\n",
              "        google.colab.kernel.accessAllowed ? 'block' : 'none';\n",
              "\n",
              "      async function convertToInteractive(key) {\n",
              "        const element = document.querySelector('#df-b8092384-9c83-46f8-b663-95172b10c712');\n",
              "        const dataTable =\n",
              "          await google.colab.kernel.invokeFunction('convertToInteractive',\n",
              "                                                    [key], {});\n",
              "        if (!dataTable) return;\n",
              "\n",
              "        const docLinkHtml = 'Like what you see? Visit the ' +\n",
              "          '<a target=\"_blank\" href=https://colab.research.google.com/notebooks/data_table.ipynb>data table notebook</a>'\n",
              "          + ' to learn more about interactive tables.';\n",
              "        element.innerHTML = '';\n",
              "        dataTable['output_type'] = 'display_data';\n",
              "        await google.colab.output.renderOutput(dataTable, element);\n",
              "        const docLink = document.createElement('div');\n",
              "        docLink.innerHTML = docLinkHtml;\n",
              "        element.appendChild(docLink);\n",
              "      }\n",
              "    </script>\n",
              "  </div>\n",
              "\n",
              "\n",
              "    <div id=\"df-33ddb53c-330c-41f5-b6fc-018291fb1f80\">\n",
              "      <button class=\"colab-df-quickchart\" onclick=\"quickchart('df-33ddb53c-330c-41f5-b6fc-018291fb1f80')\"\n",
              "                title=\"Suggest charts\"\n",
              "                style=\"display:none;\">\n",
              "\n",
              "<svg xmlns=\"http://www.w3.org/2000/svg\" height=\"24px\"viewBox=\"0 0 24 24\"\n",
              "     width=\"24px\">\n",
              "    <g>\n",
              "        <path d=\"M19 3H5c-1.1 0-2 .9-2 2v14c0 1.1.9 2 2 2h14c1.1 0 2-.9 2-2V5c0-1.1-.9-2-2-2zM9 17H7v-7h2v7zm4 0h-2V7h2v10zm4 0h-2v-4h2v4z\"/>\n",
              "    </g>\n",
              "</svg>\n",
              "      </button>\n",
              "\n",
              "<style>\n",
              "  .colab-df-quickchart {\n",
              "      --bg-color: #E8F0FE;\n",
              "      --fill-color: #1967D2;\n",
              "      --hover-bg-color: #E2EBFA;\n",
              "      --hover-fill-color: #174EA6;\n",
              "      --disabled-fill-color: #AAA;\n",
              "      --disabled-bg-color: #DDD;\n",
              "  }\n",
              "\n",
              "  [theme=dark] .colab-df-quickchart {\n",
              "      --bg-color: #3B4455;\n",
              "      --fill-color: #D2E3FC;\n",
              "      --hover-bg-color: #434B5C;\n",
              "      --hover-fill-color: #FFFFFF;\n",
              "      --disabled-bg-color: #3B4455;\n",
              "      --disabled-fill-color: #666;\n",
              "  }\n",
              "\n",
              "  .colab-df-quickchart {\n",
              "    background-color: var(--bg-color);\n",
              "    border: none;\n",
              "    border-radius: 50%;\n",
              "    cursor: pointer;\n",
              "    display: none;\n",
              "    fill: var(--fill-color);\n",
              "    height: 32px;\n",
              "    padding: 0;\n",
              "    width: 32px;\n",
              "  }\n",
              "\n",
              "  .colab-df-quickchart:hover {\n",
              "    background-color: var(--hover-bg-color);\n",
              "    box-shadow: 0 1px 2px rgba(60, 64, 67, 0.3), 0 1px 3px 1px rgba(60, 64, 67, 0.15);\n",
              "    fill: var(--button-hover-fill-color);\n",
              "  }\n",
              "\n",
              "  .colab-df-quickchart-complete:disabled,\n",
              "  .colab-df-quickchart-complete:disabled:hover {\n",
              "    background-color: var(--disabled-bg-color);\n",
              "    fill: var(--disabled-fill-color);\n",
              "    box-shadow: none;\n",
              "  }\n",
              "\n",
              "  .colab-df-spinner {\n",
              "    border: 2px solid var(--fill-color);\n",
              "    border-color: transparent;\n",
              "    border-bottom-color: var(--fill-color);\n",
              "    animation:\n",
              "      spin 1s steps(1) infinite;\n",
              "  }\n",
              "\n",
              "  @keyframes spin {\n",
              "    0% {\n",
              "      border-color: transparent;\n",
              "      border-bottom-color: var(--fill-color);\n",
              "      border-left-color: var(--fill-color);\n",
              "    }\n",
              "    20% {\n",
              "      border-color: transparent;\n",
              "      border-left-color: var(--fill-color);\n",
              "      border-top-color: var(--fill-color);\n",
              "    }\n",
              "    30% {\n",
              "      border-color: transparent;\n",
              "      border-left-color: var(--fill-color);\n",
              "      border-top-color: var(--fill-color);\n",
              "      border-right-color: var(--fill-color);\n",
              "    }\n",
              "    40% {\n",
              "      border-color: transparent;\n",
              "      border-right-color: var(--fill-color);\n",
              "      border-top-color: var(--fill-color);\n",
              "    }\n",
              "    60% {\n",
              "      border-color: transparent;\n",
              "      border-right-color: var(--fill-color);\n",
              "    }\n",
              "    80% {\n",
              "      border-color: transparent;\n",
              "      border-right-color: var(--fill-color);\n",
              "      border-bottom-color: var(--fill-color);\n",
              "    }\n",
              "    90% {\n",
              "      border-color: transparent;\n",
              "      border-bottom-color: var(--fill-color);\n",
              "    }\n",
              "  }\n",
              "</style>\n",
              "\n",
              "      <script>\n",
              "        async function quickchart(key) {\n",
              "          const quickchartButtonEl =\n",
              "            document.querySelector('#' + key + ' button');\n",
              "          quickchartButtonEl.disabled = true;  // To prevent multiple clicks.\n",
              "          quickchartButtonEl.classList.add('colab-df-spinner');\n",
              "          try {\n",
              "            const charts = await google.colab.kernel.invokeFunction(\n",
              "                'suggestCharts', [key], {});\n",
              "          } catch (error) {\n",
              "            console.error('Error during call to suggestCharts:', error);\n",
              "          }\n",
              "          quickchartButtonEl.classList.remove('colab-df-spinner');\n",
              "          quickchartButtonEl.classList.add('colab-df-quickchart-complete');\n",
              "        }\n",
              "        (() => {\n",
              "          let quickchartButtonEl =\n",
              "            document.querySelector('#df-33ddb53c-330c-41f5-b6fc-018291fb1f80 button');\n",
              "          quickchartButtonEl.style.display =\n",
              "            google.colab.kernel.accessAllowed ? 'block' : 'none';\n",
              "        })();\n",
              "      </script>\n",
              "    </div>\n",
              "\n",
              "    </div>\n",
              "  </div>\n"
            ],
            "text/plain": [
              "                                         instruction  \\\n",
              "0   Can you give me a recipe for Vegetarian Bobotie?   \n",
              "1  Can you give me a recipe for Citrus Couscous S...   \n",
              "2          Can you give me a recipe for Tofu Kebabs?   \n",
              "3    Can you give me a recipe for Coffee Milk Syrup?   \n",
              "\n",
              "                                            response  \n",
              "0  **Recipe:** Vegetarian Bobotie **Ingredients:*...  \n",
              "1  **Recipe:** Citrus Couscous Salad **Ingredient...  \n",
              "2  **Recipe:** Tofu Kebabs **Ingredients:** - 10 ...  \n",
              "3  **Recipe:** Coffee Milk Syrup **Ingredients:**...  "
            ]
          },
          "execution_count": 6,
          "metadata": {},
          "output_type": "execute_result"
        }
      ],
      "source": [
        "def normalize_text(text):\n",
        "    text = str(text)\n",
        "    text = text.strip()\n",
        "    text = re.sub(r'\\s+', ' ', text)               # collapse multiple spaces\n",
        "    text = re.sub(r'https?://\\S+|www\\.\\S+', '', text)  # remove URLs\n",
        "    text = re.sub(r'[“”‘’]', '\"', text)            # normalize quotes\n",
        "    text = re.sub(r'[\\x00-\\x1F\\x7F]', '', text)    # remove control chars\n",
        "    text = re.sub(r'\\s([?.!\"](?:\\s|$))', r'\\1', text) # fix spacing before punct\n",
        "    return text.strip()\n",
        "\n",
        "\n",
        "# apply normalization\n",
        "import re\n",
        "\n",
        "main_data['instruction'] = main_data['instruction'].apply(normalize_text)\n",
        "main_data['response'] = main_data['response'].apply(normalize_text)\n",
        "\n",
        "\n",
        "main_data[['instruction','response']].head(4)"
      ]
    },
    {
      "cell_type": "markdown",
      "id": "6d97d9e7",
      "metadata": {
        "id": "6d97d9e7"
      },
      "source": [
        "## tokenisation"
      ]
    },
    {
      "cell_type": "code",
      "execution_count": 8,
      "id": "HBLMwwTShd0C",
      "metadata": {
        "colab": {
          "base_uri": "https://localhost:8080/"
        },
        "id": "HBLMwwTShd0C",
        "outputId": "c6ec9b4a-1094-4f8d-eb0a-387fc04b1bb8"
      },
      "outputs": [
        {
          "name": "stderr",
          "output_type": "stream",
          "text": [
            "/usr/local/lib/python3.12/dist-packages/huggingface_hub/utils/_auth.py:94: UserWarning: \n",
            "The secret `HF_TOKEN` does not exist in your Colab secrets.\n",
            "To authenticate with the Hugging Face Hub, create a token in your settings tab (https://huggingface.co/settings/tokens), set it as secret in your Google Colab and restart your session.\n",
            "You will be able to reuse this secret in all of your notebooks.\n",
            "Please note that authentication is recommended but still optional to access public models or datasets.\n",
            "  warnings.warn(\n"
          ]
        }
      ],
      "source": [
        "from transformers import AutoTokenizer\n",
        "from datasets import Dataset\n",
        "\n",
        "# Load tokenizer\n",
        "tokenizer = AutoTokenizer.from_pretrained(\"microsoft/Phi-3-mini-4k-instruct\", trust_remote_code=True)\n",
        "if tokenizer.pad_token is None:\n",
        "    tokenizer.pad_token = tokenizer.eos_token\n",
        "\n",
        "# Convert pandas to Dataset FIRST (keep instruction and response)\n",
        "dataset = Dataset.from_pandas(main_data[['instruction', 'response']])"
      ]
    },
    {
      "cell_type": "code",
      "execution_count": 16,
      "id": "u9bRoi0Wm_X1",
      "metadata": {
        "id": "u9bRoi0Wm_X1"
      },
      "outputs": [],
      "source": [
        "def tokenize_function(examples):\n",
        "    prompts = []\n",
        "    for instruction, response in zip(examples[\"instruction\"], examples[\"response\"]):\n",
        "        messages = [\n",
        "            {\"role\": \"user\", \"content\": instruction},\n",
        "            {\"role\": \"assistant\", \"content\": response}\n",
        "        ]\n",
        "        formatted = tokenizer.apply_chat_template(\n",
        "            messages,\n",
        "            tokenize=False,\n",
        "            add_generation_prompt=False\n",
        "        )\n",
        "        prompts.append(formatted)\n",
        "\n",
        "    # NO PADDING HERE - let the data collator handle it\n",
        "    tokenized = tokenizer(\n",
        "        prompts,\n",
        "        truncation=True,\n",
        "        max_length=512,  # Increased for longer responses\n",
        "        padding=False,  # Changed from \"max_length\"\n",
        "        return_tensors=None\n",
        "    )\n",
        "\n",
        "    tokenized[\"labels\"] = tokenized[\"input_ids\"].copy()\n",
        "    return tokenized"
      ]
    },
    {
      "cell_type": "code",
      "execution_count": 18,
      "id": "-64Eb6bGhrGG",
      "metadata": {
        "colab": {
          "base_uri": "https://localhost:8080/",
          "height": 49,
          "referenced_widgets": [
            "51a05318d9cb47729fbdfd04ea152939",
            "52108098ff234830b006c3bb7e8d728c",
            "666526f7039d4b478355fa9e899a50eb",
            "97037bceda124267b78d577d5bbe9bc5",
            "d561bd08d9834cfeaeb9e40237d16433",
            "4db5228875f246bb99921fe4954f1a29",
            "6cfb2b44c3cf49ddb7601cdeb780f627",
            "185a6c687a7a4c6d8e842b4b0ad98616",
            "d2e4033cd113403495406f7ab1a6b64e",
            "9472a0de422c47afbf02d7db240405fa",
            "3c2566e2e05b4aa08a28f92a0a179859"
          ]
        },
        "id": "-64Eb6bGhrGG",
        "outputId": "43a533e9-66bf-46f0-8018-e3e8caa521d2"
      },
      "outputs": [
        {
          "data": {
            "application/vnd.jupyter.widget-view+json": {
              "model_id": "51a05318d9cb47729fbdfd04ea152939",
              "version_major": 2,
              "version_minor": 0
            },
            "text/plain": [
              "Tokenizing dataset:   0%|          | 0/20000 [00:00<?, ? examples/s]"
            ]
          },
          "metadata": {},
          "output_type": "display_data"
        }
      ],
      "source": [
        "tokenized_dataset = dataset.map(\n",
        "    tokenize_function,\n",
        "    batched=True,\n",
        "    remove_columns=[\"instruction\", \"response\"],\n",
        "    desc=\"Tokenizing dataset\"\n",
        ")"
      ]
    },
    {
      "cell_type": "code",
      "execution_count": 20,
      "id": "DV2WZsE1oYSm",
      "metadata": {
        "colab": {
          "base_uri": "https://localhost:8080/"
        },
        "id": "DV2WZsE1oYSm",
        "outputId": "246a5872-0996-4d85-a8a7-dfabab2ca0b7"
      },
      "outputs": [
        {
          "data": {
            "text/plain": [
              "['input_ids', 'attention_mask', 'labels']"
            ]
          },
          "execution_count": 20,
          "metadata": {},
          "output_type": "execute_result"
        }
      ],
      "source": [
        "tokenized_dataset.column_names"
      ]
    },
    {
      "cell_type": "code",
      "execution_count": 19,
      "id": "LFTQvf_Ch69d",
      "metadata": {
        "colab": {
          "base_uri": "https://localhost:8080/"
        },
        "id": "LFTQvf_Ch69d",
        "outputId": "bfa4436d-8357-4d67-8390-024615f04dc8"
      },
      "outputs": [
        {
          "name": "stdout",
          "output_type": "stream",
          "text": [
            "Token count: 477\n",
            "Decoded snippet: <|user|> Can you give me a recipe for Vegetarian Bobotie?<|end|><|assistant|> **Recipe:** Vegetarian Bobotie **Ingredients:** - 250 g lentils - 1 large onion, diced - 1 large fresh tomato, diced - 2 teaspoons curry powder - 1 teaspoon turmeric - salt and pepper - 4 tablespoons chutney - 1 large handful raisins - 40 g sliced almonds - For the topping - 3 eggs - 100 -150 ml milk (not entirely sure about the amount as I do it by feel, your topping should have a very pale yellow c) - 2 bay leaves (I tear mine up a bit, but some people put them in whole, up to you) **Directions:** Rinse\n"
          ]
        }
      ],
      "source": [
        "sample = tokenized_dataset[0]\n",
        "print(\"Token count:\", len(sample[\"input_ids\"]))\n",
        "print(\"Decoded snippet:\", tokenizer.decode(sample[\"input_ids\"][:200]))"
      ]
    },
    {
      "cell_type": "code",
      "execution_count": 30,
      "id": "aHuR_kF6Yehg",
      "metadata": {
        "colab": {
          "base_uri": "https://localhost:8080/"
        },
        "id": "aHuR_kF6Yehg",
        "outputId": "ad7ee5ed-2098-4e25-8747-ef6682cca455"
      },
      "outputs": [
        {
          "data": {
            "text/plain": [
              "['input_ids', 'attention_mask', 'labels']"
            ]
          },
          "execution_count": 30,
          "metadata": {},
          "output_type": "execute_result"
        }
      ],
      "source": [
        "tokenized_dataset.column_names"
      ]
    },
    {
      "cell_type": "code",
      "execution_count": 29,
      "id": "IGNu8V8bTwPg",
      "metadata": {
        "colab": {
          "base_uri": "https://localhost:8080/"
        },
        "id": "IGNu8V8bTwPg",
        "outputId": "cab6f15e-0f6b-4151-aed6-dd9129c6d2c1"
      },
      "outputs": [
        {
          "name": "stdout",
          "output_type": "stream",
          "text": [
            "Train size: 18000, Validation size: 2000\n"
          ]
        }
      ],
      "source": [
        "from datasets import DatasetDict\n",
        "\n",
        "train_test = tokenized_dataset.train_test_split(test_size=0.1, seed=42)\n",
        "train_dataset = train_test['train']\n",
        "eval_dataset = train_test['test']\n",
        "\n",
        "print(f\"Train size: {len(train_dataset)}, Validation size: {len(eval_dataset)}\")\n"
      ]
    },
    {
      "cell_type": "code",
      "execution_count": 50,
      "id": "yHh116q9hTxj",
      "metadata": {
        "id": "yHh116q9hTxj"
      },
      "outputs": [],
      "source": [
        "from transformers import default_data_collator\n",
        "\n",
        "def custom_data_collator(features):\n",
        "    # Get max length in this batch\n",
        "    max_length = max(len(f[\"input_ids\"]) for f in features)\n",
        "\n",
        "    # Pad each feature\n",
        "    batch = {\n",
        "        \"input_ids\": [],\n",
        "        \"attention_mask\": [],\n",
        "        \"labels\": []\n",
        "    }\n",
        "\n",
        "    for f in features:\n",
        "        # Pad input_ids and labels\n",
        "        padding_length = max_length - len(f[\"input_ids\"])\n",
        "\n",
        "        batch[\"input_ids\"].append(f[\"input_ids\"] + [tokenizer.pad_token_id] * padding_length)\n",
        "        batch[\"attention_mask\"].append([1] * len(f[\"input_ids\"]) + [0] * padding_length)\n",
        "        # Pad labels with -100 (ignored in loss)\n",
        "        batch[\"labels\"].append(f[\"labels\"] + [-100] * padding_length)\n",
        "\n",
        "    # Convert to tensors\n",
        "    batch = {k: torch.tensor(v) for k, v in batch.items()}\n",
        "    return batch\n",
        "\n",
        "data_collator = custom_data_collator"
      ]
    },
    {
      "cell_type": "code",
      "execution_count": 31,
      "id": "2gpem-GgZHjk",
      "metadata": {
        "colab": {
          "base_uri": "https://localhost:8080/",
          "height": 104,
          "referenced_widgets": [
            "52aad32e13dc4d30ac6b8d9bb4a6ef9a",
            "f1f8312229dc4dca99e3c04989ebff3d",
            "236c0ed03ac7469ba0312dd9676443d1",
            "aeb7df594057431cbeaa847aa18f9489",
            "1e6ecb94deda471e9439e7106b108158",
            "7ae104390e1b4f6581ae21b10781cc69",
            "6f8f7b1eb9f64e279e120cec4d4835d5",
            "cda10be5d68f49d19f89bbdfce92beec",
            "9d696e13910a42b095cf7a014d58a103",
            "f39b08b7c2694dbc9a9efd385a1d18fb",
            "4477bc0430b14fa6ad147df03c0c5134"
          ]
        },
        "id": "2gpem-GgZHjk",
        "outputId": "972f2bbb-a68e-4e33-c45f-1b36b256f68d"
      },
      "outputs": [
        {
          "name": "stderr",
          "output_type": "stream",
          "text": [
            "WARNING:transformers_modules.microsoft.Phi-3-mini-4k-instruct.0a67737cc96d2554230f90338b163bc6380a2a85.modeling_phi3:`flash-attention` package not found, consider installing for better performance: No module named 'flash_attn'.\n",
            "WARNING:transformers_modules.microsoft.Phi-3-mini-4k-instruct.0a67737cc96d2554230f90338b163bc6380a2a85.modeling_phi3:Current `flash-attention` does not support `window_size`. Either upgrade or use `attn_implementation='eager'`.\n"
          ]
        },
        {
          "data": {
            "application/vnd.jupyter.widget-view+json": {
              "model_id": "52aad32e13dc4d30ac6b8d9bb4a6ef9a",
              "version_major": 2,
              "version_minor": 0
            },
            "text/plain": [
              "Loading checkpoint shards:   0%|          | 0/2 [00:00<?, ?it/s]"
            ]
          },
          "metadata": {},
          "output_type": "display_data"
        }
      ],
      "source": [
        "from transformers import AutoModelForCausalLM, AutoTokenizer\n",
        "model = AutoModelForCausalLM.from_pretrained(\"microsoft/Phi-3-mini-4k-instruct\", trust_remote_code=True)\n"
      ]
    },
    {
      "cell_type": "code",
      "execution_count": 32,
      "id": "zke4nj3DZx77",
      "metadata": {
        "colab": {
          "base_uri": "https://localhost:8080/"
        },
        "id": "zke4nj3DZx77",
        "outputId": "15e30e47-1b08-47ac-9b81-8f84f434d183"
      },
      "outputs": [
        {
          "name": "stdout",
          "output_type": "stream",
          "text": [
            "\u001b[33mWARNING: Ignoring invalid distribution ~vidia-cublas-cu12 (/usr/local/lib/python3.12/dist-packages)\u001b[0m\u001b[33m\n",
            "\u001b[0mRequirement already satisfied: evaluate in /usr/local/lib/python3.12/dist-packages (0.4.6)\n",
            "Requirement already satisfied: datasets>=2.0.0 in /usr/local/lib/python3.12/dist-packages (from evaluate) (4.0.0)\n",
            "Requirement already satisfied: numpy>=1.17 in /usr/local/lib/python3.12/dist-packages (from evaluate) (1.26.4)\n",
            "Requirement already satisfied: dill in /usr/local/lib/python3.12/dist-packages (from evaluate) (0.3.8)\n",
            "Requirement already satisfied: pandas in /usr/local/lib/python3.12/dist-packages (from evaluate) (2.2.2)\n",
            "Requirement already satisfied: requests>=2.19.0 in /usr/local/lib/python3.12/dist-packages (from evaluate) (2.32.4)\n",
            "Requirement already satisfied: tqdm>=4.62.1 in /usr/local/lib/python3.12/dist-packages (from evaluate) (4.67.1)\n",
            "Requirement already satisfied: xxhash in /usr/local/lib/python3.12/dist-packages (from evaluate) (3.6.0)\n",
            "Requirement already satisfied: multiprocess in /usr/local/lib/python3.12/dist-packages (from evaluate) (0.70.16)\n",
            "Requirement already satisfied: fsspec>=2021.05.0 in /usr/local/lib/python3.12/dist-packages (from fsspec[http]>=2021.05.0->evaluate) (2025.3.0)\n",
            "Requirement already satisfied: huggingface-hub>=0.7.0 in /usr/local/lib/python3.12/dist-packages (from evaluate) (0.35.3)\n",
            "Requirement already satisfied: packaging in /usr/local/lib/python3.12/dist-packages (from evaluate) (25.0)\n",
            "Requirement already satisfied: filelock in /usr/local/lib/python3.12/dist-packages (from datasets>=2.0.0->evaluate) (3.20.0)\n",
            "Requirement already satisfied: pyarrow>=15.0.0 in /usr/local/lib/python3.12/dist-packages (from datasets>=2.0.0->evaluate) (18.1.0)\n",
            "Requirement already satisfied: pyyaml>=5.1 in /usr/local/lib/python3.12/dist-packages (from datasets>=2.0.0->evaluate) (6.0.3)\n",
            "Requirement already satisfied: aiohttp!=4.0.0a0,!=4.0.0a1 in /usr/local/lib/python3.12/dist-packages (from fsspec[http]>=2021.05.0->evaluate) (3.13.0)\n",
            "Requirement already satisfied: typing-extensions>=3.7.4.3 in /usr/local/lib/python3.12/dist-packages (from huggingface-hub>=0.7.0->evaluate) (4.15.0)\n",
            "Requirement already satisfied: hf-xet<2.0.0,>=1.1.3 in /usr/local/lib/python3.12/dist-packages (from huggingface-hub>=0.7.0->evaluate) (1.1.10)\n",
            "Requirement already satisfied: charset_normalizer<4,>=2 in /usr/local/lib/python3.12/dist-packages (from requests>=2.19.0->evaluate) (3.4.3)\n",
            "Requirement already satisfied: idna<4,>=2.5 in /usr/local/lib/python3.12/dist-packages (from requests>=2.19.0->evaluate) (3.10)\n",
            "Requirement already satisfied: urllib3<3,>=1.21.1 in /usr/local/lib/python3.12/dist-packages (from requests>=2.19.0->evaluate) (2.5.0)\n",
            "Requirement already satisfied: certifi>=2017.4.17 in /usr/local/lib/python3.12/dist-packages (from requests>=2.19.0->evaluate) (2025.10.5)\n",
            "Requirement already satisfied: python-dateutil>=2.8.2 in /usr/local/lib/python3.12/dist-packages (from pandas->evaluate) (2.9.0.post0)\n",
            "Requirement already satisfied: pytz>=2020.1 in /usr/local/lib/python3.12/dist-packages (from pandas->evaluate) (2025.2)\n",
            "Requirement already satisfied: tzdata>=2022.7 in /usr/local/lib/python3.12/dist-packages (from pandas->evaluate) (2025.2)\n",
            "Requirement already satisfied: aiohappyeyeballs>=2.5.0 in /usr/local/lib/python3.12/dist-packages (from aiohttp!=4.0.0a0,!=4.0.0a1->fsspec[http]>=2021.05.0->evaluate) (2.6.1)\n",
            "Requirement already satisfied: aiosignal>=1.4.0 in /usr/local/lib/python3.12/dist-packages (from aiohttp!=4.0.0a0,!=4.0.0a1->fsspec[http]>=2021.05.0->evaluate) (1.4.0)\n",
            "Requirement already satisfied: attrs>=17.3.0 in /usr/local/lib/python3.12/dist-packages (from aiohttp!=4.0.0a0,!=4.0.0a1->fsspec[http]>=2021.05.0->evaluate) (25.4.0)\n",
            "Requirement already satisfied: frozenlist>=1.1.1 in /usr/local/lib/python3.12/dist-packages (from aiohttp!=4.0.0a0,!=4.0.0a1->fsspec[http]>=2021.05.0->evaluate) (1.8.0)\n",
            "Requirement already satisfied: multidict<7.0,>=4.5 in /usr/local/lib/python3.12/dist-packages (from aiohttp!=4.0.0a0,!=4.0.0a1->fsspec[http]>=2021.05.0->evaluate) (6.7.0)\n",
            "Requirement already satisfied: propcache>=0.2.0 in /usr/local/lib/python3.12/dist-packages (from aiohttp!=4.0.0a0,!=4.0.0a1->fsspec[http]>=2021.05.0->evaluate) (0.3.2)\n",
            "Requirement already satisfied: yarl<2.0,>=1.17.0 in /usr/local/lib/python3.12/dist-packages (from aiohttp!=4.0.0a0,!=4.0.0a1->fsspec[http]>=2021.05.0->evaluate) (1.22.0)\n",
            "Requirement already satisfied: six>=1.5 in /usr/local/lib/python3.12/dist-packages (from python-dateutil>=2.8.2->pandas->evaluate) (1.17.0)\n",
            "\u001b[33mWARNING: Ignoring invalid distribution ~vidia-cublas-cu12 (/usr/local/lib/python3.12/dist-packages)\u001b[0m\u001b[33m\n",
            "\u001b[0m"
          ]
        }
      ],
      "source": [
        "!pip install evaluate\n"
      ]
    },
    {
      "cell_type": "code",
      "execution_count": 37,
      "id": "Hj-Q1t7LZlZB",
      "metadata": {
        "colab": {
          "base_uri": "https://localhost:8080/",
          "height": 142
        },
        "id": "Hj-Q1t7LZlZB",
        "outputId": "5de6cc45-71ff-4e7f-9bc9-ce200852575d"
      },
      "outputs": [
        {
          "data": {
            "text/html": [],
            "text/plain": [
              "<IPython.core.display.HTML object>"
            ]
          },
          "metadata": {},
          "output_type": "display_data"
        },
        {
          "data": {
            "text/html": [
              "Tracking run with wandb version 0.22.2"
            ],
            "text/plain": [
              "<IPython.core.display.HTML object>"
            ]
          },
          "metadata": {},
          "output_type": "display_data"
        },
        {
          "data": {
            "text/html": [
              "Run data is saved locally in <code>/content/wandb/run-20251016_153543-7hkq9jqt</code>"
            ],
            "text/plain": [
              "<IPython.core.display.HTML object>"
            ]
          },
          "metadata": {},
          "output_type": "display_data"
        },
        {
          "data": {
            "text/html": [
              "Syncing run <strong><a href='https://wandb.ai/j-chemirmir-glasgow-caledonian-university/phi_recipes-chatbot/runs/7hkq9jqt' target=\"_blank\">ph3-african-recipes-new</a></strong> to <a href='https://wandb.ai/j-chemirmir-glasgow-caledonian-university/phi_recipes-chatbot' target=\"_blank\">Weights & Biases</a> (<a href='https://wandb.me/developer-guide' target=\"_blank\">docs</a>)<br>"
            ],
            "text/plain": [
              "<IPython.core.display.HTML object>"
            ]
          },
          "metadata": {},
          "output_type": "display_data"
        },
        {
          "data": {
            "text/html": [
              " View project at <a href='https://wandb.ai/j-chemirmir-glasgow-caledonian-university/phi_recipes-chatbot' target=\"_blank\">https://wandb.ai/j-chemirmir-glasgow-caledonian-university/phi_recipes-chatbot</a>"
            ],
            "text/plain": [
              "<IPython.core.display.HTML object>"
            ]
          },
          "metadata": {},
          "output_type": "display_data"
        },
        {
          "data": {
            "text/html": [
              " View run at <a href='https://wandb.ai/j-chemirmir-glasgow-caledonian-university/phi_recipes-chatbot/runs/7hkq9jqt' target=\"_blank\">https://wandb.ai/j-chemirmir-glasgow-caledonian-university/phi_recipes-chatbot/runs/7hkq9jqt</a>"
            ],
            "text/plain": [
              "<IPython.core.display.HTML object>"
            ]
          },
          "metadata": {},
          "output_type": "display_data"
        },
        {
          "data": {
            "text/html": [
              "<button onClick=\"this.nextSibling.style.display='block';this.style.display='none';\">Display W&B run</button><iframe src='https://wandb.ai/j-chemirmir-glasgow-caledonian-university/phi_recipes-chatbot/runs/7hkq9jqt?jupyter=true' style='border:none;width:100%;height:420px;display:none;'></iframe>"
            ],
            "text/plain": [
              "<wandb.sdk.wandb_run.Run at 0x7dd7036cf890>"
            ]
          },
          "execution_count": 37,
          "metadata": {},
          "output_type": "execute_result"
        }
      ],
      "source": [
        "import numpy as np\n",
        "import evaluate\n",
        "# Load accuracy metric\n",
        "metric = evaluate.load(\"accuracy\")\n",
        "\n",
        "def compute_metrics(eval_pred):\n",
        "    logits, labels = eval_pred\n",
        "    predictions = np.argmax(logits, axis=-1).flatten()\n",
        "    labels_flat = labels.flatten()\n",
        "\n",
        "    mask = labels_flat != -100\n",
        "    if mask.sum() == 0:  # avoid empty mask\n",
        "        return {\"accuracy\": 0.0}\n",
        "\n",
        "    acc = (predictions[mask] == labels_flat[mask]).mean()\n",
        "    return {\"accuracy\": float(acc)}\n",
        "\n",
        "\n",
        "# Initialize W&B\n",
        "wandb.init(\n",
        "    project=\"phi_recipes-chatbot\",\n",
        "    name=\"ph3-african-recipes-new\",\n",
        "    config={\n",
        "        \"epochs\": 3,\n",
        "        \"batch_size\": 8,  # Increased for A100\n",
        "        \"learning_rate\": 5e-5,\n",
        "        \"model\": \"phi3\",\n",
        "        \"gpu\": \"A100\"\n",
        "    }\n",
        ")"
      ]
    },
    {
      "cell_type": "code",
      "execution_count": 34,
      "id": "l3HfLbOl1NPA",
      "metadata": {
        "colab": {
          "base_uri": "https://localhost:8080/"
        },
        "id": "l3HfLbOl1NPA",
        "outputId": "1779870d-f65e-457c-859f-3f0df40d60f7"
      },
      "outputs": [
        {
          "data": {
            "text/plain": [
              "0"
            ]
          },
          "execution_count": 34,
          "metadata": {},
          "output_type": "execute_result"
        }
      ],
      "source": [
        "from accelerate import Accelerator\n",
        "from accelerate.state import AcceleratorState\n",
        "AcceleratorState._reset_state()\n",
        "\n",
        "# STEP 2: Clear GPU memory\n",
        "import torch\n",
        "import gc\n",
        "\n",
        "torch.cuda.empty_cache()\n",
        "gc.collect()\n",
        "\n",
        "# STEP 3: Delete existing trainer and model references\n",
        "try:\n",
        "    del trainer\n",
        "    del model\n",
        "except:\n",
        "    pass\n",
        "\n",
        "torch.cuda.empty_cache()\n",
        "gc.collect()"
      ]
    },
    {
      "cell_type": "code",
      "execution_count": 57,
      "id": "vQc20aPMFPID",
      "metadata": {
        "id": "vQc20aPMFPID"
      },
      "outputs": [],
      "source": [
        "#  TRAINING ARGUMENTS\n",
        "\n",
        "training_args = TrainingArguments(\n",
        "    output_dir=\"./phi3-finetuned\",\n",
        "    num_train_epochs=2,\n",
        "    per_device_train_batch_size=4,\n",
        "    per_device_eval_batch_size=4,\n",
        "    gradient_accumulation_steps=8,  # Effective batch size = 8\n",
        "    learning_rate=2e-4,\n",
        "    lr_scheduler_type=\"cosine\",\n",
        "    warmup_steps=100,\n",
        "    logging_steps=10,\n",
        "    save_steps=100,\n",
        "    eval_steps=100,\n",
        "    eval_strategy=\"steps\",\n",
        "    save_total_limit=2,\n",
        "    fp16=True,  # Mixed precision training\n",
        "    optim=\"paged_adamw_8bit\",  # Memory-efficient optimizer\n",
        "    report_to=\"wandb\",  # Change to \"wandb\" if you want tracking\n",
        "    load_best_model_at_end=True,\n",
        "    metric_for_best_model=\"eval_loss\",\n",
        "    greater_is_better=False,\n",
        "\n",
        ")"
      ]
    },
    {
      "cell_type": "code",
      "execution_count": 58,
      "id": "Z6RLVZApYZ5v",
      "metadata": {
        "colab": {
          "base_uri": "https://localhost:8080/"
        },
        "id": "Z6RLVZApYZ5v",
        "outputId": "9ee92b3a-024a-4232-849d-8538fd7c380b"
      },
      "outputs": [
        {
          "name": "stderr",
          "output_type": "stream",
          "text": [
            "/usr/local/lib/python3.12/dist-packages/accelerate/accelerator.py:488: FutureWarning: `torch.cuda.amp.GradScaler(args...)` is deprecated. Please use `torch.amp.GradScaler('cuda', args...)` instead.\n",
            "  self.scaler = torch.cuda.amp.GradScaler(**kwargs)\n"
          ]
        }
      ],
      "source": [
        "# Initialize Trainer\n",
        "trainer = Trainer(\n",
        "    model=model,\n",
        "    args=training_args,\n",
        "    train_dataset=train_dataset,\n",
        "    eval_dataset=eval_dataset,\n",
        "    tokenizer=tokenizer,\n",
        "    data_collator=data_collator,\n",
        ")\n",
        "\n"
      ]
    },
    {
      "cell_type": "code",
      "execution_count": 52,
      "id": "OcLclR4rlyoa",
      "metadata": {
        "colab": {
          "base_uri": "https://localhost:8080/"
        },
        "id": "OcLclR4rlyoa",
        "outputId": "efecea1a-3fa8-42d8-e213-b8992777f273"
      },
      "outputs": [
        {
          "data": {
            "text/plain": [
              "['input_ids', 'attention_mask', 'labels']"
            ]
          },
          "execution_count": 52,
          "metadata": {},
          "output_type": "execute_result"
        }
      ],
      "source": [
        "tokenized_dataset.column_names"
      ]
    },
    {
      "cell_type": "code",
      "execution_count": 59,
      "id": "O8zVYx__l-xt",
      "metadata": {
        "colab": {
          "base_uri": "https://localhost:8080/",
          "height": 490
        },
        "id": "O8zVYx__l-xt",
        "outputId": "2a7b0a11-b1d0-49ed-c9ae-78ed0e77bf1c"
      },
      "outputs": [
        {
          "data": {
            "text/html": [
              "\n",
              "    <div>\n",
              "      \n",
              "      <progress value='1124' max='1124' style='width:300px; height:20px; vertical-align: middle;'></progress>\n",
              "      [1124/1124 1:28:23, Epoch 1/2]\n",
              "    </div>\n",
              "    <table border=\"1\" class=\"dataframe\">\n",
              "  <thead>\n",
              " <tr style=\"text-align: left;\">\n",
              "      <th>Step</th>\n",
              "      <th>Training Loss</th>\n",
              "      <th>Validation Loss</th>\n",
              "    </tr>\n",
              "  </thead>\n",
              "  <tbody>\n",
              "    <tr>\n",
              "      <td>100</td>\n",
              "      <td>1.186200</td>\n",
              "      <td>1.207603</td>\n",
              "    </tr>\n",
              "    <tr>\n",
              "      <td>200</td>\n",
              "      <td>1.175600</td>\n",
              "      <td>1.174601</td>\n",
              "    </tr>\n",
              "    <tr>\n",
              "      <td>300</td>\n",
              "      <td>1.129500</td>\n",
              "      <td>1.135837</td>\n",
              "    </tr>\n",
              "    <tr>\n",
              "      <td>400</td>\n",
              "      <td>1.133100</td>\n",
              "      <td>1.104702</td>\n",
              "    </tr>\n",
              "    <tr>\n",
              "      <td>500</td>\n",
              "      <td>1.087500</td>\n",
              "      <td>1.075215</td>\n",
              "    </tr>\n",
              "    <tr>\n",
              "      <td>600</td>\n",
              "      <td>0.786700</td>\n",
              "      <td>1.092402</td>\n",
              "    </tr>\n",
              "    <tr>\n",
              "      <td>700</td>\n",
              "      <td>0.796000</td>\n",
              "      <td>1.082583</td>\n",
              "    </tr>\n",
              "    <tr>\n",
              "      <td>800</td>\n",
              "      <td>0.757800</td>\n",
              "      <td>1.066933</td>\n",
              "    </tr>\n",
              "    <tr>\n",
              "      <td>900</td>\n",
              "      <td>0.748400</td>\n",
              "      <td>1.051221</td>\n",
              "    </tr>\n",
              "    <tr>\n",
              "      <td>1000</td>\n",
              "      <td>0.723900</td>\n",
              "      <td>1.046049</td>\n",
              "    </tr>\n",
              "    <tr>\n",
              "      <td>1100</td>\n",
              "      <td>0.733600</td>\n",
              "      <td>1.042708</td>\n",
              "    </tr>\n",
              "  </tbody>\n",
              "</table><p>"
            ],
            "text/plain": [
              "<IPython.core.display.HTML object>"
            ]
          },
          "metadata": {},
          "output_type": "display_data"
        },
        {
          "data": {
            "text/plain": [
              "TrainOutput(global_step=1124, training_loss=0.9280283750164127, metrics={'train_runtime': 5308.0847, 'train_samples_per_second': 6.782, 'train_steps_per_second': 0.212, 'total_flos': 3.682380749724795e+17, 'train_loss': 0.9280283750164127, 'epoch': 1.9982222222222221})"
            ]
          },
          "execution_count": 59,
          "metadata": {},
          "output_type": "execute_result"
        }
      ],
      "source": [
        "trainer.train()"
      ]
    },
    {
      "cell_type": "code",
      "execution_count": 60,
      "id": "NlTNXRmeS-vM",
      "metadata": {
        "colab": {
          "base_uri": "https://localhost:8080/"
        },
        "id": "NlTNXRmeS-vM",
        "outputId": "418c4aa5-9571-44ea-a0e8-6cd74f7b81ea"
      },
      "outputs": [
        {
          "data": {
            "text/plain": [
              "('./phi3-recipe-finetuned/tokenizer_config.json',\n",
              " './phi3-recipe-finetuned/special_tokens_map.json',\n",
              " './phi3-recipe-finetuned/tokenizer.model',\n",
              " './phi3-recipe-finetuned/added_tokens.json',\n",
              " './phi3-recipe-finetuned/tokenizer.json')"
            ]
          },
          "execution_count": 60,
          "metadata": {},
          "output_type": "execute_result"
        }
      ],
      "source": [
        "trainer.save_model(\"./phi3-recipe-finetuned\")\n",
        "tokenizer.save_pretrained(\"./phi3-recipe-finetuned\")"
      ]
    },
    {
      "cell_type": "code",
      "execution_count": 61,
      "id": "pFfXcSjTDK39",
      "metadata": {
        "colab": {
          "base_uri": "https://localhost:8080/"
        },
        "id": "pFfXcSjTDK39",
        "outputId": "0ff594ea-df90-454a-ab86-8d7470e45cd4"
      },
      "outputs": [
        {
          "name": "stderr",
          "output_type": "stream",
          "text": [
            "The `seen_tokens` attribute is deprecated and will be removed in v4.41. Use the `cache_position` model input instead.\n"
          ]
        },
        {
          "name": "stdout",
          "output_type": "stream",
          "text": [
            "Input: Can you give me a recipe for pasta?\n",
            "\n",
            "Generated Response:\n",
            "Can you give me a recipe for pasta? **Recipe:** pasta **Ingredients:** - 2 cup pasta - 1 tbsp butter - 1 tbsp oil - 1/2 cup onion - 1/4 cup green pepper - 1 cup mushrooms - 1 cup tomatoes - 1/2 tsp salt - 1/4 tsp pepper - 1/2 tsp garlic powder **Directions:** cook pasta in boiling salted water for 10 min, drain well. heat butter and oil in sauce pan, add onion and green pepper saute till onions soften. add mushrooms, tomatoes, salt, pepper and garlic powder cook 5 minute stir in pasta. serve warm.\n"
          ]
        }
      ],
      "source": [
        "# Prepare model for inference\n",
        "model.eval()\n",
        "\n",
        "test_instruction = \"Can you give me a recipe for pasta?\"\n",
        "messages = [{\"role\": \"user\", \"content\": test_instruction}]\n",
        "\n",
        "# Format with chat template\n",
        "prompt = tokenizer.apply_chat_template(\n",
        "    messages,\n",
        "    tokenize=False,\n",
        "    add_generation_prompt=True  # This adds the assistant prompt\n",
        ")\n",
        "\n",
        "inputs = tokenizer(prompt, return_tensors=\"pt\").to(model.device)\n",
        "\n",
        "# Generate\n",
        "with torch.no_grad():\n",
        "    outputs = model.generate(\n",
        "        **inputs,\n",
        "        max_new_tokens=512,\n",
        "        temperature=0.7,\n",
        "        do_sample=True,\n",
        "        top_p=0.95,\n",
        "    )\n",
        "\n",
        "response = tokenizer.decode(outputs[0], skip_special_tokens=True)\n",
        "print(\"Input:\", test_instruction)\n",
        "print(\"\\nGenerated Response:\")\n",
        "print(response)"
      ]
    },
    {
      "cell_type": "code",
      "execution_count": 63,
      "id": "sAgX7hY_Hukc",
      "metadata": {
        "colab": {
          "base_uri": "https://localhost:8080/",
          "height": 74
        },
        "id": "sAgX7hY_Hukc",
        "outputId": "36981c50-68ea-4883-8841-95d1bad561e7"
      },
      "outputs": [
        {
          "data": {
            "text/html": [
              "\n",
              "    <div>\n",
              "      \n",
              "      <progress value='500' max='500' style='width:300px; height:20px; vertical-align: middle;'></progress>\n",
              "      [500/500 01:06]\n",
              "    </div>\n",
              "    "
            ],
            "text/plain": [
              "<IPython.core.display.HTML object>"
            ]
          },
          "metadata": {},
          "output_type": "display_data"
        },
        {
          "name": "stdout",
          "output_type": "stream",
          "text": [
            " Evaluation results: {'eval_loss': 1.0427075624465942, 'eval_runtime': 67.1041, 'eval_samples_per_second': 29.804, 'eval_steps_per_second': 7.451, 'epoch': 1.9982222222222221}\n"
          ]
        }
      ],
      "source": [
        "eval_results = trainer.evaluate()\n",
        "print(\" Evaluation results:\", eval_results)\n"
      ]
    },
    {
      "cell_type": "code",
      "execution_count": 64,
      "id": "5JJRYAS6JKgD",
      "metadata": {
        "colab": {
          "base_uri": "https://localhost:8080/",
          "height": 462
        },
        "id": "5JJRYAS6JKgD",
        "outputId": "e54e352e-a48c-414e-a450-c30970293952"
      },
      "outputs": [
        {
          "name": "stdout",
          "output_type": "stream",
          "text": [
            "Found logs. Example entries:\n",
            "[{'loss': 1.0894, 'grad_norm': 0.7143099308013916, 'learning_rate': 2e-05, 'epoch': 0.017777777777777778, 'step': 10}, {'loss': 0.9084, 'grad_norm': 0.7890626788139343, 'learning_rate': 4e-05, 'epoch': 0.035555555555555556, 'step': 20}, {'loss': 0.7856, 'grad_norm': 0.9105142951011658, 'learning_rate': 6e-05, 'epoch': 0.05333333333333334, 'step': 30}]\n"
          ]
        },
        {
          "data": {
            "image/png": "[encoded data removed]",
            "text/plain": [
              "<Figure size 600x400 with 1 Axes>"
            ]
          },
          "metadata": {},
          "output_type": "display_data"
        }
      ],
      "source": [
        "import matplotlib.pyplot as plt\n",
        "import pandas as pd\n",
        "\n",
        "# Get log history\n",
        "logs = trainer.state.log_history\n",
        "\n",
        "# Let's inspect a few to know the keys\n",
        "if not logs:\n",
        "    print(\"No logs found. Did training complete?\")\n",
        "else:\n",
        "    print(\"Found logs. Example entries:\")\n",
        "    print(logs[:3])  # Preview first few entries\n",
        "\n",
        "    # Extract training and evaluation logs safely\n",
        "    train_logs = [log for log in logs if 'loss' in log and 'eval_loss' not in log]\n",
        "    eval_logs = [log for log in logs if 'eval_loss' in log]\n",
        "\n",
        "    # Convert to DataFrames for easier plotting\n",
        "    train_df = pd.DataFrame(train_logs)\n",
        "    eval_df = pd.DataFrame(eval_logs)\n",
        "\n",
        "    # If 'step' is missing, create a simple index\n",
        "    train_x = train_df['step'] if 'step' in train_df.columns else range(len(train_df))\n",
        "    eval_x = eval_df['step'] if 'step' in eval_df.columns else range(len(eval_df))\n",
        "\n",
        "    plt.figure(figsize=(6, 4))\n",
        "\n",
        "    # Training Loss\n",
        "    plt.plot(train_x, train_df['loss'],\n",
        "             label='Training Loss', color='#2E86AB', linewidth=2.5)\n",
        "\n",
        "    # Validation Loss\n",
        "    if 'eval_loss' in eval_df.columns:\n",
        "        plt.plot(eval_x, eval_df['eval_loss'],\n",
        "                 label='Validation Loss', color='#E63946', linewidth=2.5, marker='o')\n",
        "\n",
        "    plt.xlabel('Steps', fontsize=13, fontweight='bold')\n",
        "    plt.ylabel('Loss', fontsize=13, fontweight='bold')\n",
        "    plt.title('Training vs Validation Loss', fontsize=15, fontweight='bold')\n",
        "    plt.legend(fontsize=12)\n",
        "    plt.grid(True, alpha=0.3)\n",
        "    plt.tight_layout()\n",
        "    plt.show()\n"
      ]
    },
    {
      "cell_type": "markdown",
      "id": "oA7uuxuPJeyV",
      "metadata": {
        "id": "oA7uuxuPJeyV"
      },
      "source": [
        "# Evaluation"
      ]
    },
    {
      "cell_type": "code",
      "execution_count": 78,
      "id": "WQtQ7ik5JdL_",
      "metadata": {
        "id": "WQtQ7ik5JdL_"
      },
      "outputs": [],
      "source": [
        "\n",
        "from transformers import AutoModelForCausalLM, AutoTokenizer\n",
        "import torch\n",
        "import numpy as np\n",
        "from tqdm import tqdm\n",
        "import evaluate\n",
        "import nltk\n",
        "nltk.download('punkt', quiet=True)\n",
        "\n",
        "class PerplexityEvaluator:\n",
        "    def __init__(self, model_path):\n",
        "        print(f\" Loading model from: {model_path}\")\n",
        "        self.tokenizer = AutoTokenizer.from_pretrained(model_path, trust_remote_code=True)\n",
        "        self.model = AutoModelForCausalLM.from_pretrained(\n",
        "            model_path,\n",
        "            trust_remote_code=True,\n",
        "            torch_dtype=torch.float16 if torch.cuda.is_available() else torch.float32,\n",
        "            device_map=\"cuda\" if torch.cuda.is_available() else \"cpu\"\n",
        "        )\n",
        "        self.model.eval()\n",
        "\n",
        "    def evaluate(self, test_samples, max_samples=10):\n",
        "        print(f\"\\n Evaluating perplexity on {min(max_samples, len(test_samples))} samples...\")\n",
        "        total_loss = 0\n",
        "\n",
        "        for sample in tqdm(test_samples[:max_samples], desc=\"Calculating Perplexity\"):\n",
        "            text = f\"User: {sample['instruction']}\\nAssistant: {sample['response']}\"\n",
        "            inputs = self.tokenizer(\n",
        "                text,\n",
        "                return_tensors=\"pt\",\n",
        "                truncation=True,\n",
        "                max_length=512\n",
        "            )\n",
        "            inputs = {k: v.to(self.model.device) for k, v in inputs.items()}\n",
        "\n",
        "            with torch.no_grad():\n",
        "                outputs = self.model(**inputs, labels=inputs[\"input_ids\"])\n",
        "                total_loss += outputs.loss.item()\n",
        "\n",
        "        avg_loss = total_loss / min(max_samples, len(test_samples))\n",
        "        perplexity = np.exp(avg_loss)\n",
        "\n",
        "        print(f\"\\n{'='*60}\")\n",
        "        print(\"PERPLEXITY RESULT\")\n",
        "        print(f\" Perplexity: {perplexity:.2f} \")\n",
        "        print(f\"{'='*60}\\n\")\n",
        "\n",
        "        return perplexity\n",
        "\n",
        "\n",
        "\n"
      ]
    },
    {
      "cell_type": "code",
      "execution_count": 79,
      "id": "RxwtzRviMANB",
      "metadata": {
        "colab": {
          "base_uri": "https://localhost:8080/",
          "height": 312,
          "referenced_widgets": [
            "ece4b624bb884368a3121946d80607e8",
            "054bfbae58b046cbae4abf8695f590e7",
            "99557c945b0843dc9850c714157f7bb6",
            "343381e5dd664724a9b0a7f70adee254",
            "712e1d4b99004be68ad7b452bd951e91",
            "f1c0f8b534634a27b9ffa28e956b1176",
            "0817a3ec08114addb9dcd6d14fc61aca",
            "2c80ac72ce874f338e6a86c33b8bfbd9",
            "74940fcf3bc04dbba966fc91ef6fe52e",
            "85aeb06489c64b4ea768b648afef0df5",
            "5de2b62e5cff4f30b3d99500d4b9c706"
          ]
        },
        "id": "RxwtzRviMANB",
        "outputId": "e6b0d264-d4b6-4102-e47d-f4a64ea2d7b1"
      },
      "outputs": [
        {
          "name": "stdout",
          "output_type": "stream",
          "text": [
            " Loading model from: /content/phi3-recipe-finetuned\n"
          ]
        },
        {
          "name": "stderr",
          "output_type": "stream",
          "text": [
            "WARNING:transformers_modules.microsoft.Phi-3-mini-4k-instruct.0a67737cc96d2554230f90338b163bc6380a2a85.modeling_phi3:`flash-attention` package not found, consider installing for better performance: No module named 'flash_attn'.\n",
            "WARNING:transformers_modules.microsoft.Phi-3-mini-4k-instruct.0a67737cc96d2554230f90338b163bc6380a2a85.modeling_phi3:Current `flash-attention` does not support `window_size`. Either upgrade or use `attn_implementation='eager'`.\n"
          ]
        },
        {
          "data": {
            "application/vnd.jupyter.widget-view+json": {
              "model_id": "ece4b624bb884368a3121946d80607e8",
              "version_major": 2,
              "version_minor": 0
            },
            "text/plain": [
              "Loading checkpoint shards:   0%|          | 0/4 [00:00<?, ?it/s]"
            ]
          },
          "metadata": {},
          "output_type": "display_data"
        },
        {
          "name": "stdout",
          "output_type": "stream",
          "text": [
            "\n",
            " Evaluating perplexity on 10 samples...\n"
          ]
        },
        {
          "name": "stderr",
          "output_type": "stream",
          "text": [
            "Calculating Perplexity: 100%|██████████| 10/10 [00:00<00:00, 18.55it/s]"
          ]
        },
        {
          "name": "stdout",
          "output_type": "stream",
          "text": [
            "\n",
            "============================================================\n",
            "PERPLEXITY RESULT\n",
            " Perplexity: 2.52 \n",
            "============================================================\n",
            "\n",
            "Perplexity Evaluation Complete!\n",
            "Final Perplexity: 2.52\n"
          ]
        },
        {
          "name": "stderr",
          "output_type": "stream",
          "text": [
            "\n"
          ]
        }
      ],
      "source": [
        "\n",
        "# RUN EVALUATION\n",
        "\n",
        "MODEL_PATH = \"/content/phi3-recipe-finetuned\"\n",
        "\n",
        "# Use your validation or sample test dataset\n",
        "test_data = [\n",
        "    {'instruction': main_data.iloc[i]['instruction'],\n",
        "     'response': main_data.iloc[i]['response']}\n",
        "    for i in range(min(100, len(main_data)))\n",
        "]\n",
        "\n",
        "evaluator = PerplexityEvaluator(MODEL_PATH)\n",
        "perplexity_score = evaluator.evaluate(test_data)\n",
        "\n",
        "print(\"Perplexity Evaluation Complete!\")\n",
        "print(f\"Final Perplexity: {perplexity_score:.2f}\")\n"
      ]
    },
    {
      "cell_type": "code",
      "execution_count": 67,
      "id": "67oRd-Rhfugb",
      "metadata": {
        "colab": {
          "base_uri": "https://localhost:8080/"
        },
        "id": "67oRd-Rhfugb",
        "outputId": "6c442e6a-e7a0-4272-c6bd-db1d17040ffa"
      },
      "outputs": [
        {
          "name": "stdout",
          "output_type": "stream",
          "text": [
            "/content/Chat_bot\n",
            "WARNING: git-filter-branch has a glut of gotchas generating mangled history\n",
            "\t rewrites.  Hit Ctrl-C before proceeding to abort, then use an\n",
            "\t alternative filtering tool such as 'git filter-repo'\n",
            "\t (https://github.com/newren/git-filter-repo/) instead.  See the\n",
            "\t filter-branch manual page for more details; to squelch this warning,\n",
            "\t set FILTER_BRANCH_SQUELCH_WARNING=1.\n",
            "Proceeding with filter-branch...\n",
            "\n",
            "Rewrite ef43d867e7890ff4d30773224e462f254fbd3e91 (13/13) (0 seconds passed, remaining 0 predicted)    \n",
            "WARNING: Ref 'refs/heads/main' is unchanged\n",
            "WARNING: Ref 'refs/remotes/origin/main' is unchanged\n",
            "WARNING: Ref 'refs/remotes/origin/main' is unchanged\n"
          ]
        }
      ],
      "source": [
        "%cd /content/Chat_bot\n",
        "\n",
        "# Remove all traces of the large file from history\n",
        "!git filter-branch --force --index-filter \\\n",
        "  \"git rm --cached --ignore-unmatch gpt2-african-recipes-final/model.safetensors\" \\\n",
        "  --prune-empty --tag-name-filter cat -- --all\n"
      ]
    },
    {
      "cell_type": "code",
      "execution_count": 80,
      "id": "gDahaypEEqpO",
      "metadata": {
        "id": "gDahaypEEqpO"
      },
      "outputs": [],
      "source": [
        "# Move your model folder into the cloned repo\n",
        "!mv /content/phi3-recipe-finetuned /content/Chat_bot/\n"
      ]
    },
    {
      "cell_type": "code",
      "execution_count": 81,
      "id": "mH0okzYFSiUD",
      "metadata": {
        "colab": {
          "base_uri": "https://localhost:8080/"
        },
        "id": "mH0okzYFSiUD",
        "outputId": "7bd3ccf0-55a3-428f-ed44-583d35299327"
      },
      "outputs": [
        {
          "name": "stdout",
          "output_type": "stream",
          "text": [
            "/content/Chat_bot/phi3-recipe-finetuned/model-00002-of-00004.safetensors\n",
            "/content/Chat_bot/phi3-recipe-finetuned/model-00004-of-00004.safetensors\n",
            "/content/Chat_bot/phi3-recipe-finetuned/model-00003-of-00004.safetensors\n",
            "/content/Chat_bot/phi3-recipe-finetuned/model-00001-of-00004.safetensors\n"
          ]
        }
      ],
      "source": [
        "# Find files larger than 100 MB\n",
        "!find /content/Chat_bot/phi3-recipe-finetuned -type f -size +100M\n"
      ]
    },
    {
      "cell_type": "code",
      "execution_count": 82,
      "id": "QXLfJojwYh7W",
      "metadata": {
        "id": "QXLfJojwYh7W"
      },
      "outputs": [],
      "source": [
        "# Path to your repo\n",
        "gitignore_path = \"/content/Chat_bot/.gitignore\"\n",
        "\n",
        "# Add safetensors files to gitignore\n",
        "with open(gitignore_path, \"a\") as f:\n",
        "    f.write(\"\\n# Ignore large model weights\\n\")\n",
        "    f.write(\"phi3-recipe-finetuned/model-00001-of-00004.safetensors\\n\")\n",
        "    f.write(\"phi3-recipe-finetuned/model-00002-of-00004.safetensors\\n\")\n",
        "    f.write(\"phi3-recipe-finetuned/model-00003-of-00004.safetensors\\n\")\n",
        "    f.write(\"phi3-recipe-finetuned/model-00004-of-00004.safetensors\\n\")\n",
        "\n"
      ]
    },
    {
      "cell_type": "code",
      "execution_count": 83,
      "id": "anNqNjprbDIX",
      "metadata": {
        "colab": {
          "base_uri": "https://localhost:8080/"
        },
        "id": "anNqNjprbDIX",
        "outputId": "ac0810ef-f30a-4b32-caa3-d343c7892199"
      },
      "outputs": [
        {
          "name": "stdout",
          "output_type": "stream",
          "text": [
            "[main 1328e5c] Pushed Phi3-mini-instuct-Model\n",
            " 10 files changed, 93897 insertions(+)\n",
            " create mode 100644 phi3-recipe-finetuned/added_tokens.json\n",
            " create mode 100644 phi3-recipe-finetuned/config.json\n",
            " create mode 100644 phi3-recipe-finetuned/generation_config.json\n",
            " create mode 100644 phi3-recipe-finetuned/model.safetensors.index.json\n",
            " create mode 100644 phi3-recipe-finetuned/special_tokens_map.json\n",
            " create mode 100644 phi3-recipe-finetuned/tokenizer.json\n",
            " create mode 100644 phi3-recipe-finetuned/tokenizer.model\n",
            " create mode 100644 phi3-recipe-finetuned/tokenizer_config.json\n",
            " create mode 100644 phi3-recipe-finetuned/training_args.bin\n"
          ]
        }
      ],
      "source": [
        "!git add -A\n",
        "!git commit -m \"Pushed Phi3-mini-instuct-Model\"\n"
      ]
    },
    {
      "cell_type": "code",
      "execution_count": 84,
      "id": "-kyir6RfZLwv",
      "metadata": {
        "colab": {
          "base_uri": "https://localhost:8080/"
        },
        "id": "-kyir6RfZLwv",
        "outputId": "8b2e348c-a030-459b-b5ca-d5e2c7becef7"
      },
      "outputs": [
        {
          "name": "stdout",
          "output_type": "stream",
          "text": [
            "Enumerating objects: 15, done.\n",
            "Counting objects:   6% (1/15)\rCounting objects:  13% (2/15)\rCounting objects:  20% (3/15)\rCounting objects:  26% (4/15)\rCounting objects:  33% (5/15)\rCounting objects:  40% (6/15)\rCounting objects:  46% (7/15)\rCounting objects:  53% (8/15)\rCounting objects:  60% (9/15)\rCounting objects:  66% (10/15)\rCounting objects:  73% (11/15)\rCounting objects:  80% (12/15)\rCounting objects:  86% (13/15)\rCounting objects:  93% (14/15)\rCounting objects: 100% (15/15)\rCounting objects: 100% (15/15), done.\n",
            "Delta compression using up to 12 threads\n",
            "Compressing objects: 100% (13/13), done.\n",
            "Writing objects: 100% (13/13), 700.63 KiB | 5.15 MiB/s, done.\n",
            "Total 13 (delta 2), reused 0 (delta 0), pack-reused 0\n",
            "remote: Resolving deltas: 100% (2/2), completed with 2 local objects.\u001b[K\n",
            "To https://github.com//AkotoChristine/Chat_bot.git\n",
            "   ef43d86..1328e5c  main -> main\n"
          ]
        }
      ],
      "source": [
        "!git push origin main --force\n"
      ]
    }
  ],
  "metadata": {
    "accelerator": "GPU",
    "colab": {
      "gpuType": "A100",
      "include_colab_link": true,
      "machine_shape": "hm",
      "provenance": []
    },
    "kernelspec": {
      "display_name": "Python 3",
      "name": "python3"
    },
    "language_info": {
      "codemirror_mode": {
        "name": "ipython",
        "version": 3
      },
      "file_extension": ".py",
      "mimetype": "text/x-python",
      "name": "python",
      "nbconvert_exporter": "python",
      "pygments_lexer": "ipython3",
      "version": "3.11.4"
    },
    "widgets": {
      "application/vnd.jupyter.widget-state+json": {
        "054bfbae58b046cbae4abf8695f590e7": {
          "model_module": "@jupyter-widgets/controls",
          "model_module_version": "1.5.0",
          "model_name": "HTMLModel",
          "state": {
            "_dom_classes": [],
            "_model_module": "@jupyter-widgets/controls",
            "_model_module_version": "1.5.0",
            "_model_name": "HTMLModel",
            "_view_count": null,
            "_view_module": "@jupyter-widgets/controls",
            "_view_module_version": "1.5.0",
            "_view_name": "HTMLView",
            "description": "",
            "description_tooltip": null,
            "layout": "IPY_MODEL_f1c0f8b534634a27b9ffa28e956b1176",
            "placeholder": "​",
            "style": "IPY_MODEL_0817a3ec08114addb9dcd6d14fc61aca",
            "value": "Loading checkpoint shards: 100%"
          }
        },
        "0817a3ec08114addb9dcd6d14fc61aca": {
          "model_module": "@jupyter-widgets/controls",
          "model_module_version": "1.5.0",
          "model_name": "DescriptionStyleModel",
          "state": {
            "_model_module": "@jupyter-widgets/controls",
            "_model_module_version": "1.5.0",
            "_model_name": "DescriptionStyleModel",
            "_view_count": null,
            "_view_module": "@jupyter-widgets/base",
            "_view_module_version": "1.2.0",
            "_view_name": "StyleView",
            "description_width": ""
          }
        },
        "185a6c687a7a4c6d8e842b4b0ad98616": {
          "model_module": "@jupyter-widgets/base",
          "model_module_version": "1.2.0",
          "model_name": "LayoutModel",
          "state": {
            "_model_module": "@jupyter-widgets/base",
            "_model_module_version": "1.2.0",
            "_model_name": "LayoutModel",
            "_view_count": null,
            "_view_module": "@jupyter-widgets/base",
            "_view_module_version": "1.2.0",
            "_view_name": "LayoutView",
            "align_content": null,
            "align_items": null,
            "align_self": null,
            "border": null,
            "bottom": null,
            "display": null,
            "flex": null,
            "flex_flow": null,
            "grid_area": null,
            "grid_auto_columns": null,
            "grid_auto_flow": null,
            "grid_auto_rows": null,
            "grid_column": null,
            "grid_gap": null,
            "grid_row": null,
            "grid_template_areas": null,
            "grid_template_columns": null,
            "grid_template_rows": null,
            "height": null,
            "justify_content": null,
            "justify_items": null,
            "left": null,
            "margin": null,
            "max_height": null,
            "max_width": null,
            "min_height": null,
            "min_width": null,
            "object_fit": null,
            "object_position": null,
            "order": null,
            "overflow": null,
            "overflow_x": null,
            "overflow_y": null,
            "padding": null,
            "right": null,
            "top": null,
            "visibility": null,
            "width": null
          }
        },
        "1e6ecb94deda471e9439e7106b108158": {
          "model_module": "@jupyter-widgets/base",
          "model_module_version": "1.2.0",
          "model_name": "LayoutModel",
          "state": {
            "_model_module": "@jupyter-widgets/base",
            "_model_module_version": "1.2.0",
            "_model_name": "LayoutModel",
            "_view_count": null,
            "_view_module": "@jupyter-widgets/base",
            "_view_module_version": "1.2.0",
            "_view_name": "LayoutView",
            "align_content": null,
            "align_items": null,
            "align_self": null,
            "border": null,
            "bottom": null,
            "display": null,
            "flex": null,
            "flex_flow": null,
            "grid_area": null,
            "grid_auto_columns": null,
            "grid_auto_flow": null,
            "grid_auto_rows": null,
            "grid_column": null,
            "grid_gap": null,
            "grid_row": null,
            "grid_template_areas": null,
            "grid_template_columns": null,
            "grid_template_rows": null,
            "height": null,
            "justify_content": null,
            "justify_items": null,
            "left": null,
            "margin": null,
            "max_height": null,
            "max_width": null,
            "min_height": null,
            "min_width": null,
            "object_fit": null,
            "object_position": null,
            "order": null,
            "overflow": null,
            "overflow_x": null,
            "overflow_y": null,
            "padding": null,
            "right": null,
            "top": null,
            "visibility": null,
            "width": null
          }
        },
        "236c0ed03ac7469ba0312dd9676443d1": {
          "model_module": "@jupyter-widgets/controls",
          "model_module_version": "1.5.0",
          "model_name": "FloatProgressModel",
          "state": {
            "_dom_classes": [],
            "_model_module": "@jupyter-widgets/controls",
            "_model_module_version": "1.5.0",
            "_model_name": "FloatProgressModel",
            "_view_count": null,
            "_view_module": "@jupyter-widgets/controls",
            "_view_module_version": "1.5.0",
            "_view_name": "ProgressView",
            "bar_style": "success",
            "description": "",
            "description_tooltip": null,
            "layout": "IPY_MODEL_cda10be5d68f49d19f89bbdfce92beec",
            "max": 2,
            "min": 0,
            "orientation": "horizontal",
            "style": "IPY_MODEL_9d696e13910a42b095cf7a014d58a103",
            "value": 2
          }
        },
        "2c80ac72ce874f338e6a86c33b8bfbd9": {
          "model_module": "@jupyter-widgets/base",
          "model_module_version": "1.2.0",
          "model_name": "LayoutModel",
          "state": {
            "_model_module": "@jupyter-widgets/base",
            "_model_module_version": "1.2.0",
            "_model_name": "LayoutModel",
            "_view_count": null,
            "_view_module": "@jupyter-widgets/base",
            "_view_module_version": "1.2.0",
            "_view_name": "LayoutView",
            "align_content": null,
            "align_items": null,
            "align_self": null,
            "border": null,
            "bottom": null,
            "display": null,
            "flex": null,
            "flex_flow": null,
            "grid_area": null,
            "grid_auto_columns": null,
            "grid_auto_flow": null,
            "grid_auto_rows": null,
            "grid_column": null,
            "grid_gap": null,
            "grid_row": null,
            "grid_template_areas": null,
            "grid_template_columns": null,
            "grid_template_rows": null,
            "height": null,
            "justify_content": null,
            "justify_items": null,
            "left": null,
            "margin": null,
            "max_height": null,
            "max_width": null,
            "min_height": null,
            "min_width": null,
            "object_fit": null,
            "object_position": null,
            "order": null,
            "overflow": null,
            "overflow_x": null,
            "overflow_y": null,
            "padding": null,
            "right": null,
            "top": null,
            "visibility": null,
            "width": null
          }
        },
        "343381e5dd664724a9b0a7f70adee254": {
          "model_module": "@jupyter-widgets/controls",
          "model_module_version": "1.5.0",
          "model_name": "HTMLModel",
          "state": {
            "_dom_classes": [],
            "_model_module": "@jupyter-widgets/controls",
            "_model_module_version": "1.5.0",
            "_model_name": "HTMLModel",
            "_view_count": null,
            "_view_module": "@jupyter-widgets/controls",
            "_view_module_version": "1.5.0",
            "_view_name": "HTMLView",
            "description": "",
            "description_tooltip": null,
            "layout": "IPY_MODEL_85aeb06489c64b4ea768b648afef0df5",
            "placeholder": "​",
            "style": "IPY_MODEL_5de2b62e5cff4f30b3d99500d4b9c706",
            "value": " 4/4 [00:06&lt;00:00,  1.37s/it]"
          }
        },
        "3c2566e2e05b4aa08a28f92a0a179859": {
          "model_module": "@jupyter-widgets/controls",
          "model_module_version": "1.5.0",
          "model_name": "DescriptionStyleModel",
          "state": {
            "_model_module": "@jupyter-widgets/controls",
            "_model_module_version": "1.5.0",
            "_model_name": "DescriptionStyleModel",
            "_view_count": null,
            "_view_module": "@jupyter-widgets/base",
            "_view_module_version": "1.2.0",
            "_view_name": "StyleView",
            "description_width": ""
          }
        },
        "4477bc0430b14fa6ad147df03c0c5134": {
          "model_module": "@jupyter-widgets/controls",
          "model_module_version": "1.5.0",
          "model_name": "DescriptionStyleModel",
          "state": {
            "_model_module": "@jupyter-widgets/controls",
            "_model_module_version": "1.5.0",
            "_model_name": "DescriptionStyleModel",
            "_view_count": null,
            "_view_module": "@jupyter-widgets/base",
            "_view_module_version": "1.2.0",
            "_view_name": "StyleView",
            "description_width": ""
          }
        },
        "4db5228875f246bb99921fe4954f1a29": {
          "model_module": "@jupyter-widgets/base",
          "model_module_version": "1.2.0",
          "model_name": "LayoutModel",
          "state": {
            "_model_module": "@jupyter-widgets/base",
            "_model_module_version": "1.2.0",
            "_model_name": "LayoutModel",
            "_view_count": null,
            "_view_module": "@jupyter-widgets/base",
            "_view_module_version": "1.2.0",
            "_view_name": "LayoutView",
            "align_content": null,
            "align_items": null,
            "align_self": null,
            "border": null,
            "bottom": null,
            "display": null,
            "flex": null,
            "flex_flow": null,
            "grid_area": null,
            "grid_auto_columns": null,
            "grid_auto_flow": null,
            "grid_auto_rows": null,
            "grid_column": null,
            "grid_gap": null,
            "grid_row": null,
            "grid_template_areas": null,
            "grid_template_columns": null,
            "grid_template_rows": null,
            "height": null,
            "justify_content": null,
            "justify_items": null,
            "left": null,
            "margin": null,
            "max_height": null,
            "max_width": null,
            "min_height": null,
            "min_width": null,
            "object_fit": null,
            "object_position": null,
            "order": null,
            "overflow": null,
            "overflow_x": null,
            "overflow_y": null,
            "padding": null,
            "right": null,
            "top": null,
            "visibility": null,
            "width": null
          }
        },
        "51a05318d9cb47729fbdfd04ea152939": {
          "model_module": "@jupyter-widgets/controls",
          "model_module_version": "1.5.0",
          "model_name": "HBoxModel",
          "state": {
            "_dom_classes": [],
            "_model_module": "@jupyter-widgets/controls",
            "_model_module_version": "1.5.0",
            "_model_name": "HBoxModel",
            "_view_count": null,
            "_view_module": "@jupyter-widgets/controls",
            "_view_module_version": "1.5.0",
            "_view_name": "HBoxView",
            "box_style": "",
            "children": [
              "IPY_MODEL_52108098ff234830b006c3bb7e8d728c",
              "IPY_MODEL_666526f7039d4b478355fa9e899a50eb",
              "IPY_MODEL_97037bceda124267b78d577d5bbe9bc5"
            ],
            "layout": "IPY_MODEL_d561bd08d9834cfeaeb9e40237d16433"
          }
        },
        "52108098ff234830b006c3bb7e8d728c": {
          "model_module": "@jupyter-widgets/controls",
          "model_module_version": "1.5.0",
          "model_name": "HTMLModel",
          "state": {
            "_dom_classes": [],
            "_model_module": "@jupyter-widgets/controls",
            "_model_module_version": "1.5.0",
            "_model_name": "HTMLModel",
            "_view_count": null,
            "_view_module": "@jupyter-widgets/controls",
            "_view_module_version": "1.5.0",
            "_view_name": "HTMLView",
            "description": "",
            "description_tooltip": null,
            "layout": "IPY_MODEL_4db5228875f246bb99921fe4954f1a29",
            "placeholder": "​",
            "style": "IPY_MODEL_6cfb2b44c3cf49ddb7601cdeb780f627",
            "value": "Tokenizing dataset: 100%"
          }
        },
        "52aad32e13dc4d30ac6b8d9bb4a6ef9a": {
          "model_module": "@jupyter-widgets/controls",
          "model_module_version": "1.5.0",
          "model_name": "HBoxModel",
          "state": {
            "_dom_classes": [],
            "_model_module": "@jupyter-widgets/controls",
            "_model_module_version": "1.5.0",
            "_model_name": "HBoxModel",
            "_view_count": null,
            "_view_module": "@jupyter-widgets/controls",
            "_view_module_version": "1.5.0",
            "_view_name": "HBoxView",
            "box_style": "",
            "children": [
              "IPY_MODEL_f1f8312229dc4dca99e3c04989ebff3d",
              "IPY_MODEL_236c0ed03ac7469ba0312dd9676443d1",
              "IPY_MODEL_aeb7df594057431cbeaa847aa18f9489"
            ],
            "layout": "IPY_MODEL_1e6ecb94deda471e9439e7106b108158"
          }
        },
        "5de2b62e5cff4f30b3d99500d4b9c706": {
          "model_module": "@jupyter-widgets/controls",
          "model_module_version": "1.5.0",
          "model_name": "DescriptionStyleModel",
          "state": {
            "_model_module": "@jupyter-widgets/controls",
            "_model_module_version": "1.5.0",
            "_model_name": "DescriptionStyleModel",
            "_view_count": null,
            "_view_module": "@jupyter-widgets/base",
            "_view_module_version": "1.2.0",
            "_view_name": "StyleView",
            "description_width": ""
          }
        },
        "666526f7039d4b478355fa9e899a50eb": {
          "model_module": "@jupyter-widgets/controls",
          "model_module_version": "1.5.0",
          "model_name": "FloatProgressModel",
          "state": {
            "_dom_classes": [],
            "_model_module": "@jupyter-widgets/controls",
            "_model_module_version": "1.5.0",
            "_model_name": "FloatProgressModel",
            "_view_count": null,
            "_view_module": "@jupyter-widgets/controls",
            "_view_module_version": "1.5.0",
            "_view_name": "ProgressView",
            "bar_style": "success",
            "description": "",
            "description_tooltip": null,
            "layout": "IPY_MODEL_185a6c687a7a4c6d8e842b4b0ad98616",
            "max": 20000,
            "min": 0,
            "orientation": "horizontal",
            "style": "IPY_MODEL_d2e4033cd113403495406f7ab1a6b64e",
            "value": 20000
          }
        },
        "6cfb2b44c3cf49ddb7601cdeb780f627": {
          "model_module": "@jupyter-widgets/controls",
          "model_module_version": "1.5.0",
          "model_name": "DescriptionStyleModel",
          "state": {
            "_model_module": "@jupyter-widgets/controls",
            "_model_module_version": "1.5.0",
            "_model_name": "DescriptionStyleModel",
            "_view_count": null,
            "_view_module": "@jupyter-widgets/base",
            "_view_module_version": "1.2.0",
            "_view_name": "StyleView",
            "description_width": ""
          }
        },
        "6f8f7b1eb9f64e279e120cec4d4835d5": {
          "model_module": "@jupyter-widgets/controls",
          "model_module_version": "1.5.0",
          "model_name": "DescriptionStyleModel",
          "state": {
            "_model_module": "@jupyter-widgets/controls",
            "_model_module_version": "1.5.0",
            "_model_name": "DescriptionStyleModel",
            "_view_count": null,
            "_view_module": "@jupyter-widgets/base",
            "_view_module_version": "1.2.0",
            "_view_name": "StyleView",
            "description_width": ""
          }
        },
        "712e1d4b99004be68ad7b452bd951e91": {
          "model_module": "@jupyter-widgets/base",
          "model_module_version": "1.2.0",
          "model_name": "LayoutModel",
          "state": {
            "_model_module": "@jupyter-widgets/base",
            "_model_module_version": "1.2.0",
            "_model_name": "LayoutModel",
            "_view_count": null,
            "_view_module": "@jupyter-widgets/base",
            "_view_module_version": "1.2.0",
            "_view_name": "LayoutView",
            "align_content": null,
            "align_items": null,
            "align_self": null,
            "border": null,
            "bottom": null,
            "display": null,
            "flex": null,
            "flex_flow": null,
            "grid_area": null,
            "grid_auto_columns": null,
            "grid_auto_flow": null,
            "grid_auto_rows": null,
            "grid_column": null,
            "grid_gap": null,
            "grid_row": null,
            "grid_template_areas": null,
            "grid_template_columns": null,
            "grid_template_rows": null,
            "height": null,
            "justify_content": null,
            "justify_items": null,
            "left": null,
            "margin": null,
            "max_height": null,
            "max_width": null,
            "min_height": null,
            "min_width": null,
            "object_fit": null,
            "object_position": null,
            "order": null,
            "overflow": null,
            "overflow_x": null,
            "overflow_y": null,
            "padding": null,
            "right": null,
            "top": null,
            "visibility": null,
            "width": null
          }
        },
        "74940fcf3bc04dbba966fc91ef6fe52e": {
          "model_module": "@jupyter-widgets/controls",
          "model_module_version": "1.5.0",
          "model_name": "ProgressStyleModel",
          "state": {
            "_model_module": "@jupyter-widgets/controls",
            "_model_module_version": "1.5.0",
            "_model_name": "ProgressStyleModel",
            "_view_count": null,
            "_view_module": "@jupyter-widgets/base",
            "_view_module_version": "1.2.0",
            "_view_name": "StyleView",
            "bar_color": null,
            "description_width": ""
          }
        },
        "7ae104390e1b4f6581ae21b10781cc69": {
          "model_module": "@jupyter-widgets/base",
          "model_module_version": "1.2.0",
          "model_name": "LayoutModel",
          "state": {
            "_model_module": "@jupyter-widgets/base",
            "_model_module_version": "1.2.0",
            "_model_name": "LayoutModel",
            "_view_count": null,
            "_view_module": "@jupyter-widgets/base",
            "_view_module_version": "1.2.0",
            "_view_name": "LayoutView",
            "align_content": null,
            "align_items": null,
            "align_self": null,
            "border": null,
            "bottom": null,
            "display": null,
            "flex": null,
            "flex_flow": null,
            "grid_area": null,
            "grid_auto_columns": null,
            "grid_auto_flow": null,
            "grid_auto_rows": null,
            "grid_column": null,
            "grid_gap": null,
            "grid_row": null,
            "grid_template_areas": null,
            "grid_template_columns": null,
            "grid_template_rows": null,
            "height": null,
            "justify_content": null,
            "justify_items": null,
            "left": null,
            "margin": null,
            "max_height": null,
            "max_width": null,
            "min_height": null,
            "min_width": null,
            "object_fit": null,
            "object_position": null,
            "order": null,
            "overflow": null,
            "overflow_x": null,
            "overflow_y": null,
            "padding": null,
            "right": null,
            "top": null,
            "visibility": null,
            "width": null
          }
        },
        "85aeb06489c64b4ea768b648afef0df5": {
          "model_module": "@jupyter-widgets/base",
          "model_module_version": "1.2.0",
          "model_name": "LayoutModel",
          "state": {
            "_model_module": "@jupyter-widgets/base",
            "_model_module_version": "1.2.0",
            "_model_name": "LayoutModel",
            "_view_count": null,
            "_view_module": "@jupyter-widgets/base",
            "_view_module_version": "1.2.0",
            "_view_name": "LayoutView",
            "align_content": null,
            "align_items": null,
            "align_self": null,
            "border": null,
            "bottom": null,
            "display": null,
            "flex": null,
            "flex_flow": null,
            "grid_area": null,
            "grid_auto_columns": null,
            "grid_auto_flow": null,
            "grid_auto_rows": null,
            "grid_column": null,
            "grid_gap": null,
            "grid_row": null,
            "grid_template_areas": null,
            "grid_template_columns": null,
            "grid_template_rows": null,
            "height": null,
            "justify_content": null,
            "justify_items": null,
            "left": null,
            "margin": null,
            "max_height": null,
            "max_width": null,
            "min_height": null,
            "min_width": null,
            "object_fit": null,
            "object_position": null,
            "order": null,
            "overflow": null,
            "overflow_x": null,
            "overflow_y": null,
            "padding": null,
            "right": null,
            "top": null,
            "visibility": null,
            "width": null
          }
        },
        "9472a0de422c47afbf02d7db240405fa": {
          "model_module": "@jupyter-widgets/base",
          "model_module_version": "1.2.0",
          "model_name": "LayoutModel",
          "state": {
            "_model_module": "@jupyter-widgets/base",
            "_model_module_version": "1.2.0",
            "_model_name": "LayoutModel",
            "_view_count": null,
            "_view_module": "@jupyter-widgets/base",
            "_view_module_version": "1.2.0",
            "_view_name": "LayoutView",
            "align_content": null,
            "align_items": null,
            "align_self": null,
            "border": null,
            "bottom": null,
            "display": null,
            "flex": null,
            "flex_flow": null,
            "grid_area": null,
            "grid_auto_columns": null,
            "grid_auto_flow": null,
            "grid_auto_rows": null,
            "grid_column": null,
            "grid_gap": null,
            "grid_row": null,
            "grid_template_areas": null,
            "grid_template_columns": null,
            "grid_template_rows": null,
            "height": null,
            "justify_content": null,
            "justify_items": null,
            "left": null,
            "margin": null,
            "max_height": null,
            "max_width": null,
            "min_height": null,
            "min_width": null,
            "object_fit": null,
            "object_position": null,
            "order": null,
            "overflow": null,
            "overflow_x": null,
            "overflow_y": null,
            "padding": null,
            "right": null,
            "top": null,
            "visibility": null,
            "width": null
          }
        },
        "97037bceda124267b78d577d5bbe9bc5": {
          "model_module": "@jupyter-widgets/controls",
          "model_module_version": "1.5.0",
          "model_name": "HTMLModel",
          "state": {
            "_dom_classes": [],
            "_model_module": "@jupyter-widgets/controls",
            "_model_module_version": "1.5.0",
            "_model_name": "HTMLModel",
            "_view_count": null,
            "_view_module": "@jupyter-widgets/controls",
            "_view_module_version": "1.5.0",
            "_view_name": "HTMLView",
            "description": "",
            "description_tooltip": null,
            "layout": "IPY_MODEL_9472a0de422c47afbf02d7db240405fa",
            "placeholder": "​",
            "style": "IPY_MODEL_3c2566e2e05b4aa08a28f92a0a179859",
            "value": " 20000/20000 [00:05&lt;00:00, 3183.81 examples/s]"
          }
        },
        "99557c945b0843dc9850c714157f7bb6": {
          "model_module": "@jupyter-widgets/controls",
          "model_module_version": "1.5.0",
          "model_name": "FloatProgressModel",
          "state": {
            "_dom_classes": [],
            "_model_module": "@jupyter-widgets/controls",
            "_model_module_version": "1.5.0",
            "_model_name": "FloatProgressModel",
            "_view_count": null,
            "_view_module": "@jupyter-widgets/controls",
            "_view_module_version": "1.5.0",
            "_view_name": "ProgressView",
            "bar_style": "success",
            "description": "",
            "description_tooltip": null,
            "layout": "IPY_MODEL_2c80ac72ce874f338e6a86c33b8bfbd9",
            "max": 4,
            "min": 0,
            "orientation": "horizontal",
            "style": "IPY_MODEL_74940fcf3bc04dbba966fc91ef6fe52e",
            "value": 4
          }
        },
        "9d696e13910a42b095cf7a014d58a103": {
          "model_module": "@jupyter-widgets/controls",
          "model_module_version": "1.5.0",
          "model_name": "ProgressStyleModel",
          "state": {
            "_model_module": "@jupyter-widgets/controls",
            "_model_module_version": "1.5.0",
            "_model_name": "ProgressStyleModel",
            "_view_count": null,
            "_view_module": "@jupyter-widgets/base",
            "_view_module_version": "1.2.0",
            "_view_name": "StyleView",
            "bar_color": null,
            "description_width": ""
          }
        },
        "aeb7df594057431cbeaa847aa18f9489": {
          "model_module": "@jupyter-widgets/controls",
          "model_module_version": "1.5.0",
          "model_name": "HTMLModel",
          "state": {
            "_dom_classes": [],
            "_model_module": "@jupyter-widgets/controls",
            "_model_module_version": "1.5.0",
            "_model_name": "HTMLModel",
            "_view_count": null,
            "_view_module": "@jupyter-widgets/controls",
            "_view_module_version": "1.5.0",
            "_view_name": "HTMLView",
            "description": "",
            "description_tooltip": null,
            "layout": "IPY_MODEL_f39b08b7c2694dbc9a9efd385a1d18fb",
            "placeholder": "​",
            "style": "IPY_MODEL_4477bc0430b14fa6ad147df03c0c5134",
            "value": " 2/2 [00:02&lt;00:00,  1.12s/it]"
          }
        },
        "cda10be5d68f49d19f89bbdfce92beec": {
          "model_module": "@jupyter-widgets/base",
          "model_module_version": "1.2.0",
          "model_name": "LayoutModel",
          "state": {
            "_model_module": "@jupyter-widgets/base",
            "_model_module_version": "1.2.0",
            "_model_name": "LayoutModel",
            "_view_count": null,
            "_view_module": "@jupyter-widgets/base",
            "_view_module_version": "1.2.0",
            "_view_name": "LayoutView",
            "align_content": null,
            "align_items": null,
            "align_self": null,
            "border": null,
            "bottom": null,
            "display": null,
            "flex": null,
            "flex_flow": null,
            "grid_area": null,
            "grid_auto_columns": null,
            "grid_auto_flow": null,
            "grid_auto_rows": null,
            "grid_column": null,
            "grid_gap": null,
            "grid_row": null,
            "grid_template_areas": null,
            "grid_template_columns": null,
            "grid_template_rows": null,
            "height": null,
            "justify_content": null,
            "justify_items": null,
            "left": null,
            "margin": null,
            "max_height": null,
            "max_width": null,
            "min_height": null,
            "min_width": null,
            "object_fit": null,
            "object_position": null,
            "order": null,
            "overflow": null,
            "overflow_x": null,
            "overflow_y": null,
            "padding": null,
            "right": null,
            "top": null,
            "visibility": null,
            "width": null
          }
        },
        "d2e4033cd113403495406f7ab1a6b64e": {
          "model_module": "@jupyter-widgets/controls",
          "model_module_version": "1.5.0",
          "model_name": "ProgressStyleModel",
          "state": {
            "_model_module": "@jupyter-widgets/controls",
            "_model_module_version": "1.5.0",
            "_model_name": "ProgressStyleModel",
            "_view_count": null,
            "_view_module": "@jupyter-widgets/base",
            "_view_module_version": "1.2.0",
            "_view_name": "StyleView",
            "bar_color": null,
            "description_width": ""
          }
        },
        "d561bd08d9834cfeaeb9e40237d16433": {
          "model_module": "@jupyter-widgets/base",
          "model_module_version": "1.2.0",
          "model_name": "LayoutModel",
          "state": {
            "_model_module": "@jupyter-widgets/base",
            "_model_module_version": "1.2.0",
            "_model_name": "LayoutModel",
            "_view_count": null,
            "_view_module": "@jupyter-widgets/base",
            "_view_module_version": "1.2.0",
            "_view_name": "LayoutView",
            "align_content": null,
            "align_items": null,
            "align_self": null,
            "border": null,
            "bottom": null,
            "display": null,
            "flex": null,
            "flex_flow": null,
            "grid_area": null,
            "grid_auto_columns": null,
            "grid_auto_flow": null,
            "grid_auto_rows": null,
            "grid_column": null,
            "grid_gap": null,
            "grid_row": null,
            "grid_template_areas": null,
            "grid_template_columns": null,
            "grid_template_rows": null,
            "height": null,
            "justify_content": null,
            "justify_items": null,
            "left": null,
            "margin": null,
            "max_height": null,
            "max_width": null,
            "min_height": null,
            "min_width": null,
            "object_fit": null,
            "object_position": null,
            "order": null,
            "overflow": null,
            "overflow_x": null,
            "overflow_y": null,
            "padding": null,
            "right": null,
            "top": null,
            "visibility": null,
            "width": null
          }
        },
        "ece4b624bb884368a3121946d80607e8": {
          "model_module": "@jupyter-widgets/controls",
          "model_module_version": "1.5.0",
          "model_name": "HBoxModel",
          "state": {
            "_dom_classes": [],
            "_model_module": "@jupyter-widgets/controls",
            "_model_module_version": "1.5.0",
            "_model_name": "HBoxModel",
            "_view_count": null,
            "_view_module": "@jupyter-widgets/controls",
            "_view_module_version": "1.5.0",
            "_view_name": "HBoxView",
            "box_style": "",
            "children": [
              "IPY_MODEL_054bfbae58b046cbae4abf8695f590e7",
              "IPY_MODEL_99557c945b0843dc9850c714157f7bb6",
              "IPY_MODEL_343381e5dd664724a9b0a7f70adee254"
            ],
            "layout": "IPY_MODEL_712e1d4b99004be68ad7b452bd951e91"
          }
        },
        "f1c0f8b534634a27b9ffa28e956b1176": {
          "model_module": "@jupyter-widgets/base",
          "model_module_version": "1.2.0",
          "model_name": "LayoutModel",
          "state": {
            "_model_module": "@jupyter-widgets/base",
            "_model_module_version": "1.2.0",
            "_model_name": "LayoutModel",
            "_view_count": null,
            "_view_module": "@jupyter-widgets/base",
            "_view_module_version": "1.2.0",
            "_view_name": "LayoutView",
            "align_content": null,
            "align_items": null,
            "align_self": null,
            "border": null,
            "bottom": null,
            "display": null,
            "flex": null,
            "flex_flow": null,
            "grid_area": null,
            "grid_auto_columns": null,
            "grid_auto_flow": null,
            "grid_auto_rows": null,
            "grid_column": null,
            "grid_gap": null,
            "grid_row": null,
            "grid_template_areas": null,
            "grid_template_columns": null,
            "grid_template_rows": null,
            "height": null,
            "justify_content": null,
            "justify_items": null,
            "left": null,
            "margin": null,
            "max_height": null,
            "max_width": null,
            "min_height": null,
            "min_width": null,
            "object_fit": null,
            "object_position": null,
            "order": null,
            "overflow": null,
            "overflow_x": null,
            "overflow_y": null,
            "padding": null,
            "right": null,
            "top": null,
            "visibility": null,
            "width": null
          }
        },
        "f1f8312229dc4dca99e3c04989ebff3d": {
          "model_module": "@jupyter-widgets/controls",
          "model_module_version": "1.5.0",
          "model_name": "HTMLModel",
          "state": {
            "_dom_classes": [],
            "_model_module": "@jupyter-widgets/controls",
            "_model_module_version": "1.5.0",
            "_model_name": "HTMLModel",
            "_view_count": null,
            "_view_module": "@jupyter-widgets/controls",
            "_view_module_version": "1.5.0",
            "_view_name": "HTMLView",
            "description": "",
            "description_tooltip": null,
            "layout": "IPY_MODEL_7ae104390e1b4f6581ae21b10781cc69",
            "placeholder": "​",
            "style": "IPY_MODEL_6f8f7b1eb9f64e279e120cec4d4835d5",
            "value": "Loading checkpoint shards: 100%"
          }
        },
        "f39b08b7c2694dbc9a9efd385a1d18fb": {
          "model_module": "@jupyter-widgets/base",
          "model_module_version": "1.2.0",
          "model_name": "LayoutModel",
          "state": {
            "_model_module": "@jupyter-widgets/base",
            "_model_module_version": "1.2.0",
            "_model_name": "LayoutModel",
            "_view_count": null,
            "_view_module": "@jupyter-widgets/base",
            "_view_module_version": "1.2.0",
            "_view_name": "LayoutView",
            "align_content": null,
            "align_items": null,
            "align_self": null,
            "border": null,
            "bottom": null,
            "display": null,
            "flex": null,
            "flex_flow": null,
            "grid_area": null,
            "grid_auto_columns": null,
            "grid_auto_flow": null,
            "grid_auto_rows": null,
            "grid_column": null,
            "grid_gap": null,
            "grid_row": null,
            "grid_template_areas": null,
            "grid_template_columns": null,
            "grid_template_rows": null,
            "height": null,
            "justify_content": null,
            "justify_items": null,
            "left": null,
            "margin": null,
            "max_height": null,
            "max_width": null,
            "min_height": null,
            "min_width": null,
            "object_fit": null,
            "object_position": null,
            "order": null,
            "overflow": null,
            "overflow_x": null,
            "overflow_y": null,
            "padding": null,
            "right": null,
            "top": null,
            "visibility": null,
            "width": null
          }
        }
      }
    }
  },
  "nbformat": 4,
  "nbformat_minor": 5
}
